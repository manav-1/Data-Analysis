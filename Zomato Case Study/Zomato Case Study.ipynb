{
 "cells": [
  {
   "cell_type": "code",
   "execution_count": 1,
   "metadata": {},
   "outputs": [],
   "source": [
    " #to display graphs inline of jupyter notebook"
   ]
  },
  {
   "cell_type": "markdown",
   "metadata": {},
   "source": [
    "#### About Zomato\n",
    "Zomato is an Indian restaurant search and discovery service founded in 2008 by Deepinder Goyal and Pankaj Chaddah. It currently operates in 24 countries. It provides information and reviews of restaurants, including images of menus where the restaurant does not have its own website and also online delivery.  \n"
   ]
  },
  {
   "cell_type": "markdown",
   "metadata": {},
   "source": [
    "#### Data Context\n",
    "The basic idea of analyzing the Zomato dataset is to get a fair idea about the factors affecting the establishment of different types of restaurants at different places in Bengaluru. This Zomato data aims at analyzing demography of the location. Most importantly it will help new restaurants in deciding their theme, menus, cuisine, cost, etc for a particular location. It also aims at finding similarity between neighborhoods of Bengaluru on the basis of food."
   ]
  },
  {
   "cell_type": "markdown",
   "metadata": {},
   "source": [
    "__Data Dictionary:__\n",
    "\n",
    "- url - contains the url of the restaurant in the zomato website\n",
    "- address - contains the address of the restaurant in Bengaluru\n",
    "- name - contains the name of the restaurant\n",
    "- online_order - whether online ordering is available in the restaurant or not\n",
    "- book_table - table book option available or not\n",
    "- rate - contains the overall rating of the restaurant out of 5\n",
    "- votes - contains total number of rating for the restaurant as of the above mentioned date\n",
    "- phone - contains the phone number of the restaurant\n",
    "- location - contains the neighborhood in which the restaurant is located\n",
    "- rest_type - restaurant type\n",
    "- dish_liked - dishes people liked in the restaurant\n",
    "- cuisines - food styles, separated by comma\n",
    "- approx_cost(for two people) - contains the approximate cost for meal for two people\n",
    "- reviews_list - list of tuples containing reviews for the restaurant, each tuple consists of two values, rating and review by the customer\n",
    "- menu_item - contains list of menus available in the restaurant\n",
    "- listed_in(type) - type of meal\n",
    "- listed_in(city) - contains the neighborhood in which the restaurant is listed"
   ]
  },
  {
   "cell_type": "markdown",
   "metadata": {},
   "source": [
    "#### 0. Import the Library"
   ]
  },
  {
   "cell_type": "code",
   "execution_count": 2,
   "metadata": {},
   "outputs": [],
   "source": [
    "#import numpy, pandas, matplotlib, seaborn package\n",
    "import numpy as np\n",
    "import pandas as pd\n",
    "import matplotlib.pyplot as plt\n",
    "import seaborn as sns\n",
    "%matplotlib inline "
   ]
  },
  {
   "cell_type": "markdown",
   "metadata": {},
   "source": [
    "__1. Load the Data__\n",
    "\n"
   ]
  },
  {
   "cell_type": "code",
   "execution_count": 3,
   "metadata": {},
   "outputs": [],
   "source": [
    "df = pd.read_csv('zomato.csv')"
   ]
  },
  {
   "cell_type": "markdown",
   "metadata": {},
   "source": [
    "__2. Basic Data Understanding__ \n",
    "\n",
    "Let’s start with basic data understanding by checking the data types of the columns in which we are interested to work with."
   ]
  },
  {
   "cell_type": "code",
   "execution_count": 4,
   "metadata": {},
   "outputs": [
    {
     "data": {
      "text/plain": [
       "(51717, 17)"
      ]
     },
     "execution_count": 4,
     "metadata": {},
     "output_type": "execute_result"
    }
   ],
   "source": [
    "df.shape"
   ]
  },
  {
   "cell_type": "code",
   "execution_count": 5,
   "metadata": {
    "scrolled": true
   },
   "outputs": [
    {
     "data": {
      "text/plain": [
       "url                            object\n",
       "address                        object\n",
       "name                           object\n",
       "online_order                   object\n",
       "book_table                     object\n",
       "rate                           object\n",
       "votes                           int64\n",
       "phone                          object\n",
       "location                       object\n",
       "rest_type                      object\n",
       "dish_liked                     object\n",
       "cuisines                       object\n",
       "approx_cost(for two people)    object\n",
       "reviews_list                   object\n",
       "menu_item                      object\n",
       "listed_in(type)                object\n",
       "listed_in(city)                object\n",
       "dtype: object"
      ]
     },
     "execution_count": 5,
     "metadata": {},
     "output_type": "execute_result"
    }
   ],
   "source": [
    "#get the datatypes of the columns\n",
    "df.dtypes"
   ]
  },
  {
   "cell_type": "code",
   "execution_count": 6,
   "metadata": {},
   "outputs": [
    {
     "data": {
      "text/plain": [
       "object    16\n",
       "int64      1\n",
       "dtype: int64"
      ]
     },
     "execution_count": 6,
     "metadata": {},
     "output_type": "execute_result"
    }
   ],
   "source": [
    "#count of data types\n",
    "df.dtypes.value_counts()"
   ]
  },
  {
   "cell_type": "markdown",
   "metadata": {},
   "source": [
    "__Q. WHat do you think about the variable types? Are they correctly presented?  \n",
    "_Ans:___ I feel that there are quite a lot of variables that are not required thus making the data large and irrelevant. There are variables like rates which can have discrepancy in the way the values are presented. This may lead to incorrect data analysis. \n",
    "ALso, it would be best if we normalise the number of votes and the rating of the restaurant to remove any irregularity of data"
   ]
  },
  {
   "cell_type": "code",
   "execution_count": 7,
   "metadata": {},
   "outputs": [
    {
     "name": "stdout",
     "output_type": "stream",
     "text": [
      "<class 'pandas.core.frame.DataFrame'>\n",
      "RangeIndex: 51717 entries, 0 to 51716\n",
      "Data columns (total 17 columns):\n",
      "url                            51717 non-null object\n",
      "address                        51717 non-null object\n",
      "name                           51717 non-null object\n",
      "online_order                   51717 non-null object\n",
      "book_table                     51717 non-null object\n",
      "rate                           43942 non-null object\n",
      "votes                          51717 non-null int64\n",
      "phone                          50509 non-null object\n",
      "location                       51696 non-null object\n",
      "rest_type                      51490 non-null object\n",
      "dish_liked                     23639 non-null object\n",
      "cuisines                       51672 non-null object\n",
      "approx_cost(for two people)    51371 non-null object\n",
      "reviews_list                   51717 non-null object\n",
      "menu_item                      51717 non-null object\n",
      "listed_in(type)                51717 non-null object\n",
      "listed_in(city)                51717 non-null object\n",
      "dtypes: int64(1), object(16)\n",
      "memory usage: 6.7+ MB\n"
     ]
    }
   ],
   "source": [
    "df.info()"
   ]
  },
  {
   "cell_type": "markdown",
   "metadata": {},
   "source": [
    "__Q. Which variables should be changed to integer if we want to perform any business analysis on them. Look at the original csv/excel data and think analytically.  \n",
    "_Ans:__ The variables \"rate\" and \"votes\" should be changed to integer to best understand the popularity of a restaurant. We can also convert \"online_order\" and \"book_table\" to integer instead of boolean and perform data analysis on the same. "
   ]
  },
  {
   "cell_type": "markdown",
   "metadata": {},
   "source": [
    "You can try to get the list of all the columns present in the dataset:"
   ]
  },
  {
   "cell_type": "code",
   "execution_count": 8,
   "metadata": {},
   "outputs": [
    {
     "data": {
      "text/plain": [
       "Index(['url', 'address', 'name', 'online_order', 'book_table', 'rate', 'votes',\n",
       "       'phone', 'location', 'rest_type', 'dish_liked', 'cuisines',\n",
       "       'approx_cost(for two people)', 'reviews_list', 'menu_item',\n",
       "       'listed_in(type)', 'listed_in(city)'],\n",
       "      dtype='object')"
      ]
     },
     "execution_count": 8,
     "metadata": {},
     "output_type": "execute_result"
    }
   ],
   "source": [
    "df.columns"
   ]
  },
  {
   "cell_type": "markdown",
   "metadata": {},
   "source": [
    "Initially consider the `votes` column and find its basic statistical measures"
   ]
  },
  {
   "cell_type": "code",
   "execution_count": 9,
   "metadata": {},
   "outputs": [
    {
     "data": {
      "text/html": [
       "<div>\n",
       "<style scoped>\n",
       "    .dataframe tbody tr th:only-of-type {\n",
       "        vertical-align: middle;\n",
       "    }\n",
       "\n",
       "    .dataframe tbody tr th {\n",
       "        vertical-align: top;\n",
       "    }\n",
       "\n",
       "    .dataframe thead th {\n",
       "        text-align: right;\n",
       "    }\n",
       "</style>\n",
       "<table border=\"1\" class=\"dataframe\">\n",
       "  <thead>\n",
       "    <tr style=\"text-align: right;\">\n",
       "      <th></th>\n",
       "      <th>votes</th>\n",
       "    </tr>\n",
       "  </thead>\n",
       "  <tbody>\n",
       "    <tr>\n",
       "      <th>count</th>\n",
       "      <td>51717.000000</td>\n",
       "    </tr>\n",
       "    <tr>\n",
       "      <th>mean</th>\n",
       "      <td>283.697527</td>\n",
       "    </tr>\n",
       "    <tr>\n",
       "      <th>std</th>\n",
       "      <td>803.838853</td>\n",
       "    </tr>\n",
       "    <tr>\n",
       "      <th>min</th>\n",
       "      <td>0.000000</td>\n",
       "    </tr>\n",
       "    <tr>\n",
       "      <th>25%</th>\n",
       "      <td>7.000000</td>\n",
       "    </tr>\n",
       "    <tr>\n",
       "      <th>50%</th>\n",
       "      <td>41.000000</td>\n",
       "    </tr>\n",
       "    <tr>\n",
       "      <th>75%</th>\n",
       "      <td>198.000000</td>\n",
       "    </tr>\n",
       "    <tr>\n",
       "      <th>max</th>\n",
       "      <td>16832.000000</td>\n",
       "    </tr>\n",
       "  </tbody>\n",
       "</table>\n",
       "</div>"
      ],
      "text/plain": [
       "              votes\n",
       "count  51717.000000\n",
       "mean     283.697527\n",
       "std      803.838853\n",
       "min        0.000000\n",
       "25%        7.000000\n",
       "50%       41.000000\n",
       "75%      198.000000\n",
       "max    16832.000000"
      ]
     },
     "execution_count": 9,
     "metadata": {},
     "output_type": "execute_result"
    }
   ],
   "source": [
    "df.describe()"
   ]
  },
  {
   "cell_type": "markdown",
   "metadata": {},
   "source": [
    "__3. Data Cleaning & Data Manipulation__\n",
    "\n",
    "In this section, we will discuss some of the basic data cleaning techniques like checking for duplicate values & handling missing values. Apart from data cleaning, we will also discuss some of the manipulation techniques like changing the data type of the variables, dropping unwanted variables and renaming the columns for convenience."
   ]
  },
  {
   "cell_type": "code",
   "execution_count": 10,
   "metadata": {},
   "outputs": [
    {
     "data": {
      "text/plain": [
       "0"
      ]
     },
     "execution_count": 10,
     "metadata": {},
     "output_type": "execute_result"
    }
   ],
   "source": [
    "#check for any duplicate values\n",
    "df.duplicated().sum()"
   ]
  },
  {
   "cell_type": "markdown",
   "metadata": {},
   "source": [
    "There are no duplicate values present in this dataset.  \n",
    "Now we will check for missing values"
   ]
  },
  {
   "cell_type": "code",
   "execution_count": 11,
   "metadata": {},
   "outputs": [
    {
     "data": {
      "text/plain": [
       "url                                0\n",
       "address                            0\n",
       "name                               0\n",
       "online_order                       0\n",
       "book_table                         0\n",
       "rate                            7775\n",
       "votes                              0\n",
       "phone                           1208\n",
       "location                          21\n",
       "rest_type                        227\n",
       "dish_liked                     28078\n",
       "cuisines                          45\n",
       "approx_cost(for two people)      346\n",
       "reviews_list                       0\n",
       "menu_item                          0\n",
       "listed_in(type)                    0\n",
       "listed_in(city)                    0\n",
       "dtype: int64"
      ]
     },
     "execution_count": 11,
     "metadata": {},
     "output_type": "execute_result"
    }
   ],
   "source": [
    "#check for missing values\n",
    "df.isnull().sum()"
   ]
  },
  {
   "cell_type": "markdown",
   "metadata": {},
   "source": [
    "__Q. What is your observation from the missing data findings?__  \n",
    "Ans: Based on the results shown above, we can see that the maximum number of missing values lies in the \"dish_liked\" column. There are quite a few columns which have no null values, thus making it a decent dataset to work on. However, there is a large chunk of missing values in the \"rate\" column which is a disadvantage as we would like to perform analysis on the ratings of all the restaurants. Thus we would have to clean and remove redundant data."
   ]
  },
  {
   "cell_type": "markdown",
   "metadata": {},
   "source": [
    "- To simplify the analysis, we will drop some of the columns that are not very useful like `url, address and phone`."
   ]
  },
  {
   "cell_type": "code",
   "execution_count": 12,
   "metadata": {},
   "outputs": [],
   "source": [
    "# drop url, address and phone column and update the data at the same time\n",
    "\n",
    "del df['url']\n",
    "del df['address']\n",
    "del df['phone']"
   ]
  },
  {
   "cell_type": "markdown",
   "metadata": {},
   "source": [
    "Renaming few columns for convenience"
   ]
  },
  {
   "cell_type": "code",
   "execution_count": 13,
   "metadata": {},
   "outputs": [],
   "source": [
    "#Rename as per below name\n",
    "#\"approx_cost(for two people)\" to \"cost_two\"\n",
    "#\"listed_in(type)\" to \"service_type\"\n",
    "#\"listed_in(city)\" to \"serve_to\"\n",
    "\n",
    "df = df.rename(columns = {\"approx_cost(for two people)\" : \"cost_two\", \"listed_in(type)\" : \"service_type\", \n",
    "                   \"listed_in(city)\" : \"serve_to\"})"
   ]
  },
  {
   "cell_type": "code",
   "execution_count": 14,
   "metadata": {},
   "outputs": [
    {
     "data": {
      "text/html": [
       "<div>\n",
       "<style scoped>\n",
       "    .dataframe tbody tr th:only-of-type {\n",
       "        vertical-align: middle;\n",
       "    }\n",
       "\n",
       "    .dataframe tbody tr th {\n",
       "        vertical-align: top;\n",
       "    }\n",
       "\n",
       "    .dataframe thead th {\n",
       "        text-align: right;\n",
       "    }\n",
       "</style>\n",
       "<table border=\"1\" class=\"dataframe\">\n",
       "  <thead>\n",
       "    <tr style=\"text-align: right;\">\n",
       "      <th></th>\n",
       "      <th>name</th>\n",
       "      <th>online_order</th>\n",
       "      <th>book_table</th>\n",
       "      <th>rate</th>\n",
       "      <th>votes</th>\n",
       "      <th>location</th>\n",
       "      <th>rest_type</th>\n",
       "      <th>dish_liked</th>\n",
       "      <th>cuisines</th>\n",
       "      <th>cost_two</th>\n",
       "      <th>reviews_list</th>\n",
       "      <th>menu_item</th>\n",
       "      <th>service_type</th>\n",
       "      <th>serve_to</th>\n",
       "    </tr>\n",
       "  </thead>\n",
       "  <tbody>\n",
       "    <tr>\n",
       "      <th>0</th>\n",
       "      <td>Jalsa</td>\n",
       "      <td>Yes</td>\n",
       "      <td>Yes</td>\n",
       "      <td>4.1/5</td>\n",
       "      <td>775</td>\n",
       "      <td>Banashankari</td>\n",
       "      <td>Casual Dining</td>\n",
       "      <td>Pasta, Lunch Buffet, Masala Papad, Paneer Laja...</td>\n",
       "      <td>North Indian, Mughlai, Chinese</td>\n",
       "      <td>800</td>\n",
       "      <td>[('Rated 4.0', 'RATED\\n  A beautiful place to ...</td>\n",
       "      <td>[]</td>\n",
       "      <td>Buffet</td>\n",
       "      <td>Banashankari</td>\n",
       "    </tr>\n",
       "    <tr>\n",
       "      <th>1</th>\n",
       "      <td>Spice Elephant</td>\n",
       "      <td>Yes</td>\n",
       "      <td>No</td>\n",
       "      <td>4.1/5</td>\n",
       "      <td>787</td>\n",
       "      <td>Banashankari</td>\n",
       "      <td>Casual Dining</td>\n",
       "      <td>Momos, Lunch Buffet, Chocolate Nirvana, Thai G...</td>\n",
       "      <td>Chinese, North Indian, Thai</td>\n",
       "      <td>800</td>\n",
       "      <td>[('Rated 4.0', 'RATED\\n  Had been here for din...</td>\n",
       "      <td>[]</td>\n",
       "      <td>Buffet</td>\n",
       "      <td>Banashankari</td>\n",
       "    </tr>\n",
       "    <tr>\n",
       "      <th>2</th>\n",
       "      <td>San Churro Cafe</td>\n",
       "      <td>Yes</td>\n",
       "      <td>No</td>\n",
       "      <td>3.8/5</td>\n",
       "      <td>918</td>\n",
       "      <td>Banashankari</td>\n",
       "      <td>Cafe, Casual Dining</td>\n",
       "      <td>Churros, Cannelloni, Minestrone Soup, Hot Choc...</td>\n",
       "      <td>Cafe, Mexican, Italian</td>\n",
       "      <td>800</td>\n",
       "      <td>[('Rated 3.0', \"RATED\\n  Ambience is not that ...</td>\n",
       "      <td>[]</td>\n",
       "      <td>Buffet</td>\n",
       "      <td>Banashankari</td>\n",
       "    </tr>\n",
       "    <tr>\n",
       "      <th>3</th>\n",
       "      <td>Addhuri Udupi Bhojana</td>\n",
       "      <td>No</td>\n",
       "      <td>No</td>\n",
       "      <td>3.7/5</td>\n",
       "      <td>88</td>\n",
       "      <td>Banashankari</td>\n",
       "      <td>Quick Bites</td>\n",
       "      <td>Masala Dosa</td>\n",
       "      <td>South Indian, North Indian</td>\n",
       "      <td>300</td>\n",
       "      <td>[('Rated 4.0', \"RATED\\n  Great food and proper...</td>\n",
       "      <td>[]</td>\n",
       "      <td>Buffet</td>\n",
       "      <td>Banashankari</td>\n",
       "    </tr>\n",
       "    <tr>\n",
       "      <th>4</th>\n",
       "      <td>Grand Village</td>\n",
       "      <td>No</td>\n",
       "      <td>No</td>\n",
       "      <td>3.8/5</td>\n",
       "      <td>166</td>\n",
       "      <td>Basavanagudi</td>\n",
       "      <td>Casual Dining</td>\n",
       "      <td>Panipuri, Gol Gappe</td>\n",
       "      <td>North Indian, Rajasthani</td>\n",
       "      <td>600</td>\n",
       "      <td>[('Rated 4.0', 'RATED\\n  Very good restaurant ...</td>\n",
       "      <td>[]</td>\n",
       "      <td>Buffet</td>\n",
       "      <td>Banashankari</td>\n",
       "    </tr>\n",
       "    <tr>\n",
       "      <th>5</th>\n",
       "      <td>Timepass Dinner</td>\n",
       "      <td>Yes</td>\n",
       "      <td>No</td>\n",
       "      <td>3.8/5</td>\n",
       "      <td>286</td>\n",
       "      <td>Basavanagudi</td>\n",
       "      <td>Casual Dining</td>\n",
       "      <td>Onion Rings, Pasta, Kadhai Paneer, Salads, Sal...</td>\n",
       "      <td>North Indian</td>\n",
       "      <td>600</td>\n",
       "      <td>[('Rated 3.0', 'RATED\\n  Food 3/5\\nAmbience 3/...</td>\n",
       "      <td>[]</td>\n",
       "      <td>Buffet</td>\n",
       "      <td>Banashankari</td>\n",
       "    </tr>\n",
       "    <tr>\n",
       "      <th>6</th>\n",
       "      <td>Rosewood International Hotel - Bar &amp; Restaurant</td>\n",
       "      <td>No</td>\n",
       "      <td>No</td>\n",
       "      <td>3.6/5</td>\n",
       "      <td>8</td>\n",
       "      <td>Mysore Road</td>\n",
       "      <td>Casual Dining</td>\n",
       "      <td>NaN</td>\n",
       "      <td>North Indian, South Indian, Andhra, Chinese</td>\n",
       "      <td>800</td>\n",
       "      <td>[('Rated 5.0', 'RATED\\n  Awesome food ??Great ...</td>\n",
       "      <td>[]</td>\n",
       "      <td>Buffet</td>\n",
       "      <td>Banashankari</td>\n",
       "    </tr>\n",
       "    <tr>\n",
       "      <th>7</th>\n",
       "      <td>Onesta</td>\n",
       "      <td>Yes</td>\n",
       "      <td>Yes</td>\n",
       "      <td>4.6/5</td>\n",
       "      <td>2556</td>\n",
       "      <td>Banashankari</td>\n",
       "      <td>Casual Dining, Cafe</td>\n",
       "      <td>Farmhouse Pizza, Chocolate Banana, Virgin Moji...</td>\n",
       "      <td>Pizza, Cafe, Italian</td>\n",
       "      <td>600</td>\n",
       "      <td>[('Rated 5.0', 'RATED\\n  I personally really l...</td>\n",
       "      <td>[]</td>\n",
       "      <td>Cafes</td>\n",
       "      <td>Banashankari</td>\n",
       "    </tr>\n",
       "    <tr>\n",
       "      <th>8</th>\n",
       "      <td>Penthouse Cafe</td>\n",
       "      <td>Yes</td>\n",
       "      <td>No</td>\n",
       "      <td>4.0/5</td>\n",
       "      <td>324</td>\n",
       "      <td>Banashankari</td>\n",
       "      <td>Cafe</td>\n",
       "      <td>Pizza, Mocktails, Coffee, Nachos, Salad, Pasta...</td>\n",
       "      <td>Cafe, Italian, Continental</td>\n",
       "      <td>700</td>\n",
       "      <td>[('Rated 3.0', \"RATED\\n  I had been to this pl...</td>\n",
       "      <td>[]</td>\n",
       "      <td>Cafes</td>\n",
       "      <td>Banashankari</td>\n",
       "    </tr>\n",
       "    <tr>\n",
       "      <th>9</th>\n",
       "      <td>Smacznego</td>\n",
       "      <td>Yes</td>\n",
       "      <td>No</td>\n",
       "      <td>4.2/5</td>\n",
       "      <td>504</td>\n",
       "      <td>Banashankari</td>\n",
       "      <td>Cafe</td>\n",
       "      <td>Waffles, Pasta, Coleslaw Sandwich, Choco Waffl...</td>\n",
       "      <td>Cafe, Mexican, Italian, Momos, Beverages</td>\n",
       "      <td>550</td>\n",
       "      <td>[('Rated 4.0', \"RATED\\n  Easy to locate\\nVFM 3...</td>\n",
       "      <td>[]</td>\n",
       "      <td>Cafes</td>\n",
       "      <td>Banashankari</td>\n",
       "    </tr>\n",
       "    <tr>\n",
       "      <th>10</th>\n",
       "      <td>CafÃÂÃÂÃÂÃÂÃÂÃÂÃÂÃÂ© Down The A...</td>\n",
       "      <td>Yes</td>\n",
       "      <td>No</td>\n",
       "      <td>4.1/5</td>\n",
       "      <td>402</td>\n",
       "      <td>Banashankari</td>\n",
       "      <td>Cafe</td>\n",
       "      <td>Waffles, Pasta, Crispy Chicken, Honey Chilli C...</td>\n",
       "      <td>Cafe</td>\n",
       "      <td>500</td>\n",
       "      <td>[('Rated 4.0', 'RATED\\n  We ended up here on a...</td>\n",
       "      <td>[]</td>\n",
       "      <td>Cafes</td>\n",
       "      <td>Banashankari</td>\n",
       "    </tr>\n",
       "    <tr>\n",
       "      <th>11</th>\n",
       "      <td>Cafe Shuffle</td>\n",
       "      <td>Yes</td>\n",
       "      <td>Yes</td>\n",
       "      <td>4.2/5</td>\n",
       "      <td>150</td>\n",
       "      <td>Banashankari</td>\n",
       "      <td>Cafe</td>\n",
       "      <td>Mocktails, Peri Fries, Lasagne, Pizza, Chicken...</td>\n",
       "      <td>Cafe, Italian, Continental</td>\n",
       "      <td>600</td>\n",
       "      <td>[('Rated 1.0', \"RATED\\n \\n\\nHorrible. Not even...</td>\n",
       "      <td>[]</td>\n",
       "      <td>Cafes</td>\n",
       "      <td>Banashankari</td>\n",
       "    </tr>\n",
       "    <tr>\n",
       "      <th>12</th>\n",
       "      <td>The Coffee Shack</td>\n",
       "      <td>Yes</td>\n",
       "      <td>Yes</td>\n",
       "      <td>4.2/5</td>\n",
       "      <td>164</td>\n",
       "      <td>Banashankari</td>\n",
       "      <td>Cafe</td>\n",
       "      <td>Coffee, Spaghetti, Pancakes, Nachos, Pasta, Sa...</td>\n",
       "      <td>Cafe, Chinese, Continental, Italian</td>\n",
       "      <td>500</td>\n",
       "      <td>[('Rated 4.0', \"RATED\\n  Food - 4/5\\nAmbience ...</td>\n",
       "      <td>[]</td>\n",
       "      <td>Cafes</td>\n",
       "      <td>Banashankari</td>\n",
       "    </tr>\n",
       "    <tr>\n",
       "      <th>13</th>\n",
       "      <td>Caf-Eleven</td>\n",
       "      <td>No</td>\n",
       "      <td>No</td>\n",
       "      <td>4.0/5</td>\n",
       "      <td>424</td>\n",
       "      <td>Banashankari</td>\n",
       "      <td>Cafe</td>\n",
       "      <td>Sandwich, Omelette, Ice Tea, Virgin Mojito, Ho...</td>\n",
       "      <td>Cafe, Continental</td>\n",
       "      <td>450</td>\n",
       "      <td>[('Rated 2.0', \"RATED\\n  This is a hookah cafe...</td>\n",
       "      <td>[]</td>\n",
       "      <td>Cafes</td>\n",
       "      <td>Banashankari</td>\n",
       "    </tr>\n",
       "    <tr>\n",
       "      <th>14</th>\n",
       "      <td>San Churro Cafe</td>\n",
       "      <td>Yes</td>\n",
       "      <td>No</td>\n",
       "      <td>3.8/5</td>\n",
       "      <td>918</td>\n",
       "      <td>Banashankari</td>\n",
       "      <td>Cafe, Casual Dining</td>\n",
       "      <td>Churros, Cannelloni, Minestrone Soup, Hot Choc...</td>\n",
       "      <td>Cafe, Mexican, Italian</td>\n",
       "      <td>800</td>\n",
       "      <td>[('Rated 3.0', \"RATED\\n  Ambience is not that ...</td>\n",
       "      <td>[]</td>\n",
       "      <td>Cafes</td>\n",
       "      <td>Banashankari</td>\n",
       "    </tr>\n",
       "    <tr>\n",
       "      <th>15</th>\n",
       "      <td>Cafe Vivacity</td>\n",
       "      <td>Yes</td>\n",
       "      <td>No</td>\n",
       "      <td>3.8/5</td>\n",
       "      <td>90</td>\n",
       "      <td>Banashankari</td>\n",
       "      <td>Cafe</td>\n",
       "      <td>Garlic Bread, Burgers, Sandwiches, Pizza, Hot ...</td>\n",
       "      <td>Cafe</td>\n",
       "      <td>650</td>\n",
       "      <td>[('Rated 2.0', 'RATED\\n  Not so good place as ...</td>\n",
       "      <td>[]</td>\n",
       "      <td>Cafes</td>\n",
       "      <td>Banashankari</td>\n",
       "    </tr>\n",
       "    <tr>\n",
       "      <th>16</th>\n",
       "      <td>Catch-up-ino</td>\n",
       "      <td>Yes</td>\n",
       "      <td>No</td>\n",
       "      <td>3.9/5</td>\n",
       "      <td>133</td>\n",
       "      <td>Banashankari</td>\n",
       "      <td>Cafe</td>\n",
       "      <td>Momos, Mushroom Bruschettas, Jalapeno Cheeseba...</td>\n",
       "      <td>Cafe, Fast Food, Continental, Chinese, Momos</td>\n",
       "      <td>800</td>\n",
       "      <td>[('Rated 1.0', \"RATED\\n  This place is right o...</td>\n",
       "      <td>[]</td>\n",
       "      <td>Cafes</td>\n",
       "      <td>Banashankari</td>\n",
       "    </tr>\n",
       "    <tr>\n",
       "      <th>17</th>\n",
       "      <td>Kirthi's Biryani</td>\n",
       "      <td>Yes</td>\n",
       "      <td>No</td>\n",
       "      <td>3.8/5</td>\n",
       "      <td>144</td>\n",
       "      <td>Banashankari</td>\n",
       "      <td>Cafe</td>\n",
       "      <td>Pasta, Gelato, Garlic Bread, Mojito, Nachos, P...</td>\n",
       "      <td>Chinese, Cafe, Italian</td>\n",
       "      <td>700</td>\n",
       "      <td>[('Rated 3.0', \"RATED\\n  New place.. though it...</td>\n",
       "      <td>[]</td>\n",
       "      <td>Cafes</td>\n",
       "      <td>Banashankari</td>\n",
       "    </tr>\n",
       "    <tr>\n",
       "      <th>18</th>\n",
       "      <td>T3H Cafe</td>\n",
       "      <td>No</td>\n",
       "      <td>No</td>\n",
       "      <td>3.9/5</td>\n",
       "      <td>93</td>\n",
       "      <td>Banashankari</td>\n",
       "      <td>Cafe</td>\n",
       "      <td>Cheese Maggi, Peri Peri Fries, Pasta Arrabiata</td>\n",
       "      <td>Cafe, Italian, American</td>\n",
       "      <td>300</td>\n",
       "      <td>[('Rated 4.0', \"RATED\\n  Happy to see such a c...</td>\n",
       "      <td>[]</td>\n",
       "      <td>Cafes</td>\n",
       "      <td>Banashankari</td>\n",
       "    </tr>\n",
       "    <tr>\n",
       "      <th>19</th>\n",
       "      <td>360 Atoms Restaurant And Cafe</td>\n",
       "      <td>Yes</td>\n",
       "      <td>No</td>\n",
       "      <td>3.1/5</td>\n",
       "      <td>13</td>\n",
       "      <td>Banashankari</td>\n",
       "      <td>Cafe</td>\n",
       "      <td>NaN</td>\n",
       "      <td>Cafe, Chinese, Continental, Italian</td>\n",
       "      <td>400</td>\n",
       "      <td>[('Rated 5.0', 'RATED\\n  Friendly staffs , nic...</td>\n",
       "      <td>[]</td>\n",
       "      <td>Cafes</td>\n",
       "      <td>Banashankari</td>\n",
       "    </tr>\n",
       "    <tr>\n",
       "      <th>20</th>\n",
       "      <td>The Vintage Cafe</td>\n",
       "      <td>Yes</td>\n",
       "      <td>No</td>\n",
       "      <td>3.0/5</td>\n",
       "      <td>62</td>\n",
       "      <td>Banashankari</td>\n",
       "      <td>Cafe</td>\n",
       "      <td>Burgers, Caramel Milkshake, Iced Coffee, Iced Tea</td>\n",
       "      <td>Cafe, French, North Indian</td>\n",
       "      <td>400</td>\n",
       "      <td>[('Rated 2.0', \"RATED\\n  This is a tiny cafÃ\\...</td>\n",
       "      <td>[]</td>\n",
       "      <td>Cafes</td>\n",
       "      <td>Banashankari</td>\n",
       "    </tr>\n",
       "    <tr>\n",
       "      <th>21</th>\n",
       "      <td>Woodee Pizza</td>\n",
       "      <td>Yes</td>\n",
       "      <td>No</td>\n",
       "      <td>3.7/5</td>\n",
       "      <td>180</td>\n",
       "      <td>Banashankari</td>\n",
       "      <td>Cafe</td>\n",
       "      <td>Pizza, Garlic Bread</td>\n",
       "      <td>Cafe, Pizza, Fast Food, Beverages</td>\n",
       "      <td>500</td>\n",
       "      <td>[('Rated 3.0', 'RATED\\n  Decided to take a bre...</td>\n",
       "      <td>[]</td>\n",
       "      <td>Cafes</td>\n",
       "      <td>Banashankari</td>\n",
       "    </tr>\n",
       "    <tr>\n",
       "      <th>22</th>\n",
       "      <td>Cafe Coffee Day</td>\n",
       "      <td>No</td>\n",
       "      <td>No</td>\n",
       "      <td>3.6/5</td>\n",
       "      <td>28</td>\n",
       "      <td>Banashankari</td>\n",
       "      <td>Cafe</td>\n",
       "      <td>NaN</td>\n",
       "      <td>Cafe, Fast Food</td>\n",
       "      <td>900</td>\n",
       "      <td>[('Rated 4.0', 'RATED\\n  This outlet is better...</td>\n",
       "      <td>[]</td>\n",
       "      <td>Cafes</td>\n",
       "      <td>Banashankari</td>\n",
       "    </tr>\n",
       "    <tr>\n",
       "      <th>23</th>\n",
       "      <td>My Tea House</td>\n",
       "      <td>Yes</td>\n",
       "      <td>No</td>\n",
       "      <td>3.6/5</td>\n",
       "      <td>62</td>\n",
       "      <td>Banashankari</td>\n",
       "      <td>Quick Bites, Cafe</td>\n",
       "      <td>Pasta, Iced Tea</td>\n",
       "      <td>Italian, Fast Food, Cafe, European</td>\n",
       "      <td>600</td>\n",
       "      <td>[('Rated 4.0', \"RATED\\n  So, went here with fr...</td>\n",
       "      <td>[]</td>\n",
       "      <td>Cafes</td>\n",
       "      <td>Banashankari</td>\n",
       "    </tr>\n",
       "    <tr>\n",
       "      <th>24</th>\n",
       "      <td>Hide Out Cafe</td>\n",
       "      <td>No</td>\n",
       "      <td>No</td>\n",
       "      <td>3.7/5</td>\n",
       "      <td>31</td>\n",
       "      <td>Banashankari</td>\n",
       "      <td>Cafe</td>\n",
       "      <td>NaN</td>\n",
       "      <td>Cafe</td>\n",
       "      <td>300</td>\n",
       "      <td>[('Rated 4.0', 'RATED\\n  The food was quite go...</td>\n",
       "      <td>[]</td>\n",
       "      <td>Cafes</td>\n",
       "      <td>Banashankari</td>\n",
       "    </tr>\n",
       "    <tr>\n",
       "      <th>25</th>\n",
       "      <td>CAFE NOVA</td>\n",
       "      <td>No</td>\n",
       "      <td>No</td>\n",
       "      <td>3.2/5</td>\n",
       "      <td>11</td>\n",
       "      <td>Banashankari</td>\n",
       "      <td>Cafe</td>\n",
       "      <td>NaN</td>\n",
       "      <td>Cafe, Bakery</td>\n",
       "      <td>600</td>\n",
       "      <td>[('Rated 1.0', \"RATED\\n  No ventilation. Smoke...</td>\n",
       "      <td>[]</td>\n",
       "      <td>Cafes</td>\n",
       "      <td>Banashankari</td>\n",
       "    </tr>\n",
       "    <tr>\n",
       "      <th>26</th>\n",
       "      <td>Coffee Tindi</td>\n",
       "      <td>Yes</td>\n",
       "      <td>No</td>\n",
       "      <td>3.8/5</td>\n",
       "      <td>75</td>\n",
       "      <td>Banashankari</td>\n",
       "      <td>Cafe, Quick Bites</td>\n",
       "      <td>NaN</td>\n",
       "      <td>Cafe, South Indian</td>\n",
       "      <td>200</td>\n",
       "      <td>[('Rated 5.0', 'RATED\\n  please provide some e...</td>\n",
       "      <td>[]</td>\n",
       "      <td>Cafes</td>\n",
       "      <td>Banashankari</td>\n",
       "    </tr>\n",
       "    <tr>\n",
       "      <th>27</th>\n",
       "      <td>Sea Green Cafe</td>\n",
       "      <td>No</td>\n",
       "      <td>No</td>\n",
       "      <td>3.3/5</td>\n",
       "      <td>4</td>\n",
       "      <td>Banashankari</td>\n",
       "      <td>Cafe</td>\n",
       "      <td>NaN</td>\n",
       "      <td>Cafe, Fast Food, Beverages</td>\n",
       "      <td>500</td>\n",
       "      <td>[('Rated 5.0', 'RATED\\n  Newly opened cafe nea...</td>\n",
       "      <td>[]</td>\n",
       "      <td>Cafes</td>\n",
       "      <td>Banashankari</td>\n",
       "    </tr>\n",
       "    <tr>\n",
       "      <th>28</th>\n",
       "      <td>Cuppa</td>\n",
       "      <td>No</td>\n",
       "      <td>No</td>\n",
       "      <td>3.3/5</td>\n",
       "      <td>23</td>\n",
       "      <td>Banashankari</td>\n",
       "      <td>Cafe</td>\n",
       "      <td>NaN</td>\n",
       "      <td>Cafe, Fast Food</td>\n",
       "      <td>550</td>\n",
       "      <td>[('Rated 1.5', 'RATED\\n  This place was good t...</td>\n",
       "      <td>[]</td>\n",
       "      <td>Cafes</td>\n",
       "      <td>Banashankari</td>\n",
       "    </tr>\n",
       "    <tr>\n",
       "      <th>29</th>\n",
       "      <td>Srinathji's Cafe</td>\n",
       "      <td>No</td>\n",
       "      <td>No</td>\n",
       "      <td>3.8/5</td>\n",
       "      <td>148</td>\n",
       "      <td>Basavanagudi</td>\n",
       "      <td>Casual Dining, Cafe</td>\n",
       "      <td>Paratha, Sandwich, Chilli Idli, Noodles, Sandw...</td>\n",
       "      <td>North Indian, Cafe, Chinese, Fast Food</td>\n",
       "      <td>550</td>\n",
       "      <td>[('Rated 5.0', 'RATED\\n  No words for the pane...</td>\n",
       "      <td>[]</td>\n",
       "      <td>Cafes</td>\n",
       "      <td>Banashankari</td>\n",
       "    </tr>\n",
       "    <tr>\n",
       "      <th>...</th>\n",
       "      <td>...</td>\n",
       "      <td>...</td>\n",
       "      <td>...</td>\n",
       "      <td>...</td>\n",
       "      <td>...</td>\n",
       "      <td>...</td>\n",
       "      <td>...</td>\n",
       "      <td>...</td>\n",
       "      <td>...</td>\n",
       "      <td>...</td>\n",
       "      <td>...</td>\n",
       "      <td>...</td>\n",
       "      <td>...</td>\n",
       "      <td>...</td>\n",
       "    </tr>\n",
       "    <tr>\n",
       "      <th>51687</th>\n",
       "      <td>Red Rhino</td>\n",
       "      <td>Yes</td>\n",
       "      <td>Yes</td>\n",
       "      <td>4.4 /5</td>\n",
       "      <td>1980</td>\n",
       "      <td>Whitefield</td>\n",
       "      <td>Microbrewery, Pub</td>\n",
       "      <td>Beer, Margarita, Long Island Iced Tea, Cocktai...</td>\n",
       "      <td>Continental, Mediterranean, South Indian, Nort...</td>\n",
       "      <td>1,700</td>\n",
       "      <td>[('Rated 4.0', 'RATED\\n  Red Rhino is a Brewer...</td>\n",
       "      <td>['Hangover', 'Smoking Hot Red Rhino Chilli Chi...</td>\n",
       "      <td>Pubs and bars</td>\n",
       "      <td>Whitefield</td>\n",
       "    </tr>\n",
       "    <tr>\n",
       "      <th>51688</th>\n",
       "      <td>Ji Hazoor</td>\n",
       "      <td>Yes</td>\n",
       "      <td>Yes</td>\n",
       "      <td>4.0 /5</td>\n",
       "      <td>2856</td>\n",
       "      <td>Whitefield</td>\n",
       "      <td>Casual Dining, Bar</td>\n",
       "      <td>Chicken Salad, Mocktails, Mutton Curry, Chicke...</td>\n",
       "      <td>Mughlai, North Indian, Biryani, Afghan</td>\n",
       "      <td>1,100</td>\n",
       "      <td>[('Rated 4.0', 'RATED\\n  Was there on last Wed...</td>\n",
       "      <td>['Dal Tadka', 'Dal Makhani', 'Paneer Tikka Mas...</td>\n",
       "      <td>Pubs and bars</td>\n",
       "      <td>Whitefield</td>\n",
       "    </tr>\n",
       "    <tr>\n",
       "      <th>51689</th>\n",
       "      <td>HQ</td>\n",
       "      <td>No</td>\n",
       "      <td>Yes</td>\n",
       "      <td>4.1 /5</td>\n",
       "      <td>564</td>\n",
       "      <td>Whitefield</td>\n",
       "      <td>Casual Dining, Bar</td>\n",
       "      <td>Mocktails, Pizza, Crispy Chicken, Beer, Nachos...</td>\n",
       "      <td>North Indian, Italian, Finger Food, Continental</td>\n",
       "      <td>1,000</td>\n",
       "      <td>[('Rated 3.0', \"RATED\\n  HQ is located at grou...</td>\n",
       "      <td>[]</td>\n",
       "      <td>Pubs and bars</td>\n",
       "      <td>Whitefield</td>\n",
       "    </tr>\n",
       "    <tr>\n",
       "      <th>51690</th>\n",
       "      <td>Biere Societee</td>\n",
       "      <td>No</td>\n",
       "      <td>Yes</td>\n",
       "      <td>4.2 /5</td>\n",
       "      <td>320</td>\n",
       "      <td>Whitefield</td>\n",
       "      <td>Pub</td>\n",
       "      <td>Tempura Prawns, Cocktails, Noodles, Masala Pea...</td>\n",
       "      <td>Asian, Continental, European</td>\n",
       "      <td>1,500</td>\n",
       "      <td>[('Rated 3.0', 'RATED\\n  Went with Team on Thu...</td>\n",
       "      <td>[]</td>\n",
       "      <td>Pubs and bars</td>\n",
       "      <td>Whitefield</td>\n",
       "    </tr>\n",
       "    <tr>\n",
       "      <th>51691</th>\n",
       "      <td>Uno Chicago Bar &amp; Grill</td>\n",
       "      <td>No</td>\n",
       "      <td>Yes</td>\n",
       "      <td>4.2 /5</td>\n",
       "      <td>156</td>\n",
       "      <td>Whitefield</td>\n",
       "      <td>Bar, Casual Dining</td>\n",
       "      <td>Deep Dish Pizza, Mocktails, Burgers, Onion Rin...</td>\n",
       "      <td>American, Italian</td>\n",
       "      <td>1,800</td>\n",
       "      <td>[('Rated 4.0', \"RATED\\n  Had been here for lun...</td>\n",
       "      <td>[]</td>\n",
       "      <td>Pubs and bars</td>\n",
       "      <td>Whitefield</td>\n",
       "    </tr>\n",
       "    <tr>\n",
       "      <th>51692</th>\n",
       "      <td>Amoeba Sports Bar</td>\n",
       "      <td>Yes</td>\n",
       "      <td>Yes</td>\n",
       "      <td>3.9 /5</td>\n",
       "      <td>578</td>\n",
       "      <td>Whitefield</td>\n",
       "      <td>Lounge, Bar</td>\n",
       "      <td>Pasta, Fish, Beer, Chicken Wings, Mocktails, G...</td>\n",
       "      <td>Continental, Chinese</td>\n",
       "      <td>1,000</td>\n",
       "      <td>[('Rated 3.0', 'RATED\\n  Amoeba is affordable ...</td>\n",
       "      <td>[]</td>\n",
       "      <td>Pubs and bars</td>\n",
       "      <td>Whitefield</td>\n",
       "    </tr>\n",
       "    <tr>\n",
       "      <th>51693</th>\n",
       "      <td>One For The Road</td>\n",
       "      <td>Yes</td>\n",
       "      <td>Yes</td>\n",
       "      <td>4.1 /5</td>\n",
       "      <td>137</td>\n",
       "      <td>Whitefield</td>\n",
       "      <td>Bar</td>\n",
       "      <td>Cocktails, Pasta, Fish</td>\n",
       "      <td>Continental, North Indian, Finger Food</td>\n",
       "      <td>1,200</td>\n",
       "      <td>[('Rated 4.0', 'RATED\\n  Had been there on a S...</td>\n",
       "      <td>['Chicken Manchow Soup', 'Chicken Lollipop', '...</td>\n",
       "      <td>Pubs and bars</td>\n",
       "      <td>Whitefield</td>\n",
       "    </tr>\n",
       "    <tr>\n",
       "      <th>51694</th>\n",
       "      <td>Whitefield Social</td>\n",
       "      <td>Yes</td>\n",
       "      <td>No</td>\n",
       "      <td>4.1 /5</td>\n",
       "      <td>2773</td>\n",
       "      <td>Whitefield</td>\n",
       "      <td>Pub</td>\n",
       "      <td>Cocktails, Chicken Kebab, Murgh Ghee Roast, Vi...</td>\n",
       "      <td>American, North Indian, Chinese, Finger Food, ...</td>\n",
       "      <td>1,500</td>\n",
       "      <td>[('Rated 2.0', 'RATED\\n  Honestly speaking it ...</td>\n",
       "      <td>['Chilli Paneer Black Pepper China Box', 'Chil...</td>\n",
       "      <td>Pubs and bars</td>\n",
       "      <td>Whitefield</td>\n",
       "    </tr>\n",
       "    <tr>\n",
       "      <th>51695</th>\n",
       "      <td>The Whitefield Arms Pub &amp; Microbrewery</td>\n",
       "      <td>Yes</td>\n",
       "      <td>Yes</td>\n",
       "      <td>4.2 /5</td>\n",
       "      <td>1113</td>\n",
       "      <td>Whitefield</td>\n",
       "      <td>Pub, Microbrewery</td>\n",
       "      <td>Beer, Chicken Tikka, Cosmopolitan, Burgers, Co...</td>\n",
       "      <td>British, Continental, BBQ</td>\n",
       "      <td>1,600</td>\n",
       "      <td>[('Rated 4.0', \"RATED\\n  I never knew of this ...</td>\n",
       "      <td>[]</td>\n",
       "      <td>Pubs and bars</td>\n",
       "      <td>Whitefield</td>\n",
       "    </tr>\n",
       "    <tr>\n",
       "      <th>51696</th>\n",
       "      <td>The Irish House</td>\n",
       "      <td>No</td>\n",
       "      <td>Yes</td>\n",
       "      <td>4.3 /5</td>\n",
       "      <td>1776</td>\n",
       "      <td>Whitefield</td>\n",
       "      <td>Casual Dining, Pub</td>\n",
       "      <td>Beer, Cocktails, Burgers, Chicken Nachos, Mock...</td>\n",
       "      <td>European, American</td>\n",
       "      <td>1,700</td>\n",
       "      <td>[('Rated 4.0', 'RATED\\n  Nice place to grab a ...</td>\n",
       "      <td>[]</td>\n",
       "      <td>Pubs and bars</td>\n",
       "      <td>Whitefield</td>\n",
       "    </tr>\n",
       "    <tr>\n",
       "      <th>51697</th>\n",
       "      <td>Shizusan Shophouse &amp; Bar</td>\n",
       "      <td>Yes</td>\n",
       "      <td>Yes</td>\n",
       "      <td>4.4 /5</td>\n",
       "      <td>1313</td>\n",
       "      <td>Whitefield</td>\n",
       "      <td>Casual Dining, Bar</td>\n",
       "      <td>California Roll, Cocktails, Mocktails, Maki Ro...</td>\n",
       "      <td>Asian, Japanese, Vietnamese, Korean, Chinese, ...</td>\n",
       "      <td>1,800</td>\n",
       "      <td>[('Rated 3.0', 'RATED\\n  Wanted to try this pl...</td>\n",
       "      <td>[]</td>\n",
       "      <td>Pubs and bars</td>\n",
       "      <td>Whitefield</td>\n",
       "    </tr>\n",
       "    <tr>\n",
       "      <th>51698</th>\n",
       "      <td>Kava Kitchen &amp; Bar - Fairfield by Marriott</td>\n",
       "      <td>No</td>\n",
       "      <td>No</td>\n",
       "      <td>3.9 /5</td>\n",
       "      <td>74</td>\n",
       "      <td>Whitefield</td>\n",
       "      <td>Casual Dining, Bar</td>\n",
       "      <td>Dal Halwa</td>\n",
       "      <td>North Indian, South Indian, Continental, Ameri...</td>\n",
       "      <td>1,200</td>\n",
       "      <td>[('Rated 4.0', 'RATED\\n  Loved the food, thoug...</td>\n",
       "      <td>[]</td>\n",
       "      <td>Pubs and bars</td>\n",
       "      <td>Whitefield</td>\n",
       "    </tr>\n",
       "    <tr>\n",
       "      <th>51699</th>\n",
       "      <td>Harry's Bar + Cafe</td>\n",
       "      <td>Yes</td>\n",
       "      <td>Yes</td>\n",
       "      <td>4.1 /5</td>\n",
       "      <td>1218</td>\n",
       "      <td>Whitefield</td>\n",
       "      <td>Pub</td>\n",
       "      <td>Cocktails, Beer, Long Island Iced Tea, Pasta, ...</td>\n",
       "      <td>Asian, American, Mexican</td>\n",
       "      <td>1,200</td>\n",
       "      <td>[('Rated 4.0', 'RATED\\n  The first thing that ...</td>\n",
       "      <td>[]</td>\n",
       "      <td>Pubs and bars</td>\n",
       "      <td>Whitefield</td>\n",
       "    </tr>\n",
       "    <tr>\n",
       "      <th>51700</th>\n",
       "      <td>BAR BAR</td>\n",
       "      <td>No</td>\n",
       "      <td>Yes</td>\n",
       "      <td>4.1 /5</td>\n",
       "      <td>1003</td>\n",
       "      <td>Whitefield</td>\n",
       "      <td>Bar, Casual Dining</td>\n",
       "      <td>Mocktails, Cocktails, Pizza, Chicken Tikka, Na...</td>\n",
       "      <td>Continental, North Indian, Italian</td>\n",
       "      <td>1,500</td>\n",
       "      <td>[('Rated 4.0', \"RATED\\n  In an increasingly ov...</td>\n",
       "      <td>[]</td>\n",
       "      <td>Pubs and bars</td>\n",
       "      <td>Whitefield</td>\n",
       "    </tr>\n",
       "    <tr>\n",
       "      <th>51701</th>\n",
       "      <td>The Beer Cafe</td>\n",
       "      <td>Yes</td>\n",
       "      <td>Yes</td>\n",
       "      <td>4.1 /5</td>\n",
       "      <td>673</td>\n",
       "      <td>Whitefield</td>\n",
       "      <td>Pub</td>\n",
       "      <td>Cocktails, Wheat Beer, Bruschettas, Pasta, Bur...</td>\n",
       "      <td>Finger Food, North Indian, Chinese, Italian</td>\n",
       "      <td>1,400</td>\n",
       "      <td>[('Rated 2.0', \"RATED\\n  We went out to this p...</td>\n",
       "      <td>[]</td>\n",
       "      <td>Pubs and bars</td>\n",
       "      <td>Whitefield</td>\n",
       "    </tr>\n",
       "    <tr>\n",
       "      <th>51702</th>\n",
       "      <td>Pablo's Gastrobar</td>\n",
       "      <td>No</td>\n",
       "      <td>No</td>\n",
       "      <td>4.0 /5</td>\n",
       "      <td>1094</td>\n",
       "      <td>Whitefield</td>\n",
       "      <td>Bar</td>\n",
       "      <td>Cocktails, Beer, Pizza, Long Island Iced Tea, ...</td>\n",
       "      <td>Finger Food, American, Asian, Italian</td>\n",
       "      <td>1,450</td>\n",
       "      <td>[('Rated 4.0', 'RATED\\n  A good place to dine....</td>\n",
       "      <td>[]</td>\n",
       "      <td>Pubs and bars</td>\n",
       "      <td>Whitefield</td>\n",
       "    </tr>\n",
       "    <tr>\n",
       "      <th>51703</th>\n",
       "      <td>Oliver's Pub &amp; Diner</td>\n",
       "      <td>Yes</td>\n",
       "      <td>Yes</td>\n",
       "      <td>3.9 /5</td>\n",
       "      <td>548</td>\n",
       "      <td>Whitefield</td>\n",
       "      <td>Pub, Casual Dining</td>\n",
       "      <td>Pizza, Beer, Cocktails, Nachos, Pasta, Moo Bur...</td>\n",
       "      <td>Finger Food, American, Continental, Burger, Pizza</td>\n",
       "      <td>1,500</td>\n",
       "      <td>[('Rated 4.0', \"RATED\\n  I had :-\\n\\n1. Italia...</td>\n",
       "      <td>[]</td>\n",
       "      <td>Pubs and bars</td>\n",
       "      <td>Whitefield</td>\n",
       "    </tr>\n",
       "    <tr>\n",
       "      <th>51704</th>\n",
       "      <td>Smaaash</td>\n",
       "      <td>No</td>\n",
       "      <td>Yes</td>\n",
       "      <td>4.0 /5</td>\n",
       "      <td>189</td>\n",
       "      <td>Whitefield</td>\n",
       "      <td>Casual Dining, Pub</td>\n",
       "      <td>Pizza, Beer</td>\n",
       "      <td>North Indian, Pizza, Chinese</td>\n",
       "      <td>1,500</td>\n",
       "      <td>[('Rated 3.0', 'RATED\\n  Like this place for z...</td>\n",
       "      <td>[]</td>\n",
       "      <td>Pubs and bars</td>\n",
       "      <td>Whitefield</td>\n",
       "    </tr>\n",
       "    <tr>\n",
       "      <th>51705</th>\n",
       "      <td>Izakaya Gastro Pub</td>\n",
       "      <td>Yes</td>\n",
       "      <td>Yes</td>\n",
       "      <td>3.8 /5</td>\n",
       "      <td>128</td>\n",
       "      <td>Whitefield</td>\n",
       "      <td>Bar, Casual Dining</td>\n",
       "      <td>Beer, Chicken Guntur, Paneer Tikka, Fish, Nood...</td>\n",
       "      <td>North Indian, Continental, Mediterranean</td>\n",
       "      <td>1,200</td>\n",
       "      <td>[('Rated 3.0', \"RATED\\n  Nice place to hangout...</td>\n",
       "      <td>[]</td>\n",
       "      <td>Pubs and bars</td>\n",
       "      <td>Whitefield</td>\n",
       "    </tr>\n",
       "    <tr>\n",
       "      <th>51706</th>\n",
       "      <td>Red Glow</td>\n",
       "      <td>No</td>\n",
       "      <td>No</td>\n",
       "      <td>3.7 /5</td>\n",
       "      <td>27</td>\n",
       "      <td>Whitefield</td>\n",
       "      <td>Pub</td>\n",
       "      <td>NaN</td>\n",
       "      <td>North Indian, Continental</td>\n",
       "      <td>1,200</td>\n",
       "      <td>[('Rated 5.0', 'RATED\\n  Excellent place had n...</td>\n",
       "      <td>[]</td>\n",
       "      <td>Pubs and bars</td>\n",
       "      <td>Whitefield</td>\n",
       "    </tr>\n",
       "    <tr>\n",
       "      <th>51707</th>\n",
       "      <td>M Bar - Bengaluru Marriott Hotel Whitefield</td>\n",
       "      <td>No</td>\n",
       "      <td>No</td>\n",
       "      <td>3.9 /5</td>\n",
       "      <td>77</td>\n",
       "      <td>Whitefield</td>\n",
       "      <td>Fine Dining, Bar</td>\n",
       "      <td>Rooftop Ambience</td>\n",
       "      <td>Finger Food</td>\n",
       "      <td>2,000</td>\n",
       "      <td>[('Rated 4.0', 'RATED\\n  Went there post dinne...</td>\n",
       "      <td>[]</td>\n",
       "      <td>Pubs and bars</td>\n",
       "      <td>Whitefield</td>\n",
       "    </tr>\n",
       "    <tr>\n",
       "      <th>51708</th>\n",
       "      <td>Keys Cafe - Keys Hotel</td>\n",
       "      <td>No</td>\n",
       "      <td>No</td>\n",
       "      <td>2.8 /5</td>\n",
       "      <td>161</td>\n",
       "      <td>Whitefield</td>\n",
       "      <td>Casual Dining, Bar</td>\n",
       "      <td>Salads, Coffee, Breakfast Buffet, Halwa, Chick...</td>\n",
       "      <td>Chinese, Continental, North Indian</td>\n",
       "      <td>1,200</td>\n",
       "      <td>[('Rated 3.0', 'RATED\\n  Place is good not tha...</td>\n",
       "      <td>[]</td>\n",
       "      <td>Pubs and bars</td>\n",
       "      <td>Whitefield</td>\n",
       "    </tr>\n",
       "    <tr>\n",
       "      <th>51709</th>\n",
       "      <td>The Farm House Bar n Grill</td>\n",
       "      <td>No</td>\n",
       "      <td>No</td>\n",
       "      <td>3.7 /5</td>\n",
       "      <td>34</td>\n",
       "      <td>Whitefield</td>\n",
       "      <td>Casual Dining, Bar</td>\n",
       "      <td>NaN</td>\n",
       "      <td>North Indian, Continental</td>\n",
       "      <td>800</td>\n",
       "      <td>[('Rated 4.0', 'RATED\\n  Ambience- Big and spa...</td>\n",
       "      <td>[]</td>\n",
       "      <td>Pubs and bars</td>\n",
       "      <td>Whitefield</td>\n",
       "    </tr>\n",
       "    <tr>\n",
       "      <th>51710</th>\n",
       "      <td>Topsy Turvey</td>\n",
       "      <td>No</td>\n",
       "      <td>No</td>\n",
       "      <td>NaN</td>\n",
       "      <td>0</td>\n",
       "      <td>Whitefield</td>\n",
       "      <td>Bar</td>\n",
       "      <td>NaN</td>\n",
       "      <td>Finger Food</td>\n",
       "      <td>900</td>\n",
       "      <td>[('Rated 4.0', \"RATED\\n  A divine joint for Fl...</td>\n",
       "      <td>[]</td>\n",
       "      <td>Pubs and bars</td>\n",
       "      <td>Whitefield</td>\n",
       "    </tr>\n",
       "    <tr>\n",
       "      <th>51711</th>\n",
       "      <td>Bhagini</td>\n",
       "      <td>No</td>\n",
       "      <td>No</td>\n",
       "      <td>2.5 /5</td>\n",
       "      <td>81</td>\n",
       "      <td>Whitefield</td>\n",
       "      <td>Casual Dining, Bar</td>\n",
       "      <td>Biryani, Andhra Meal</td>\n",
       "      <td>Andhra, South Indian, Chinese, North Indian</td>\n",
       "      <td>800</td>\n",
       "      <td>[('Rated 4.0', 'RATED\\n  A fine place to chill...</td>\n",
       "      <td>[]</td>\n",
       "      <td>Pubs and bars</td>\n",
       "      <td>Whitefield</td>\n",
       "    </tr>\n",
       "    <tr>\n",
       "      <th>51712</th>\n",
       "      <td>Best Brews - Four Points by Sheraton Bengaluru...</td>\n",
       "      <td>No</td>\n",
       "      <td>No</td>\n",
       "      <td>3.6 /5</td>\n",
       "      <td>27</td>\n",
       "      <td>Whitefield</td>\n",
       "      <td>Bar</td>\n",
       "      <td>NaN</td>\n",
       "      <td>Continental</td>\n",
       "      <td>1,500</td>\n",
       "      <td>[('Rated 5.0', \"RATED\\n  Food and service are ...</td>\n",
       "      <td>[]</td>\n",
       "      <td>Pubs and bars</td>\n",
       "      <td>Whitefield</td>\n",
       "    </tr>\n",
       "    <tr>\n",
       "      <th>51713</th>\n",
       "      <td>Vinod Bar And Restaurant</td>\n",
       "      <td>No</td>\n",
       "      <td>No</td>\n",
       "      <td>NaN</td>\n",
       "      <td>0</td>\n",
       "      <td>Whitefield</td>\n",
       "      <td>Bar</td>\n",
       "      <td>NaN</td>\n",
       "      <td>Finger Food</td>\n",
       "      <td>600</td>\n",
       "      <td>[]</td>\n",
       "      <td>[]</td>\n",
       "      <td>Pubs and bars</td>\n",
       "      <td>Whitefield</td>\n",
       "    </tr>\n",
       "    <tr>\n",
       "      <th>51714</th>\n",
       "      <td>Plunge - Sheraton Grand Bengaluru Whitefield H...</td>\n",
       "      <td>No</td>\n",
       "      <td>No</td>\n",
       "      <td>NaN</td>\n",
       "      <td>0</td>\n",
       "      <td>Whitefield</td>\n",
       "      <td>Bar</td>\n",
       "      <td>NaN</td>\n",
       "      <td>Finger Food</td>\n",
       "      <td>2,000</td>\n",
       "      <td>[]</td>\n",
       "      <td>[]</td>\n",
       "      <td>Pubs and bars</td>\n",
       "      <td>Whitefield</td>\n",
       "    </tr>\n",
       "    <tr>\n",
       "      <th>51715</th>\n",
       "      <td>Chime - Sheraton Grand Bengaluru Whitefield Ho...</td>\n",
       "      <td>No</td>\n",
       "      <td>Yes</td>\n",
       "      <td>4.3 /5</td>\n",
       "      <td>236</td>\n",
       "      <td>ITPL Main Road, Whitefield</td>\n",
       "      <td>Bar</td>\n",
       "      <td>Cocktails, Pizza, Buttermilk</td>\n",
       "      <td>Finger Food</td>\n",
       "      <td>2,500</td>\n",
       "      <td>[('Rated 4.0', 'RATED\\n  Nice and friendly pla...</td>\n",
       "      <td>[]</td>\n",
       "      <td>Pubs and bars</td>\n",
       "      <td>Whitefield</td>\n",
       "    </tr>\n",
       "    <tr>\n",
       "      <th>51716</th>\n",
       "      <td>The Nest - The Den Bengaluru</td>\n",
       "      <td>No</td>\n",
       "      <td>No</td>\n",
       "      <td>3.4 /5</td>\n",
       "      <td>13</td>\n",
       "      <td>ITPL Main Road, Whitefield</td>\n",
       "      <td>Bar, Casual Dining</td>\n",
       "      <td>NaN</td>\n",
       "      <td>Finger Food, North Indian, Continental</td>\n",
       "      <td>1,500</td>\n",
       "      <td>[('Rated 5.0', 'RATED\\n  Great ambience , look...</td>\n",
       "      <td>[]</td>\n",
       "      <td>Pubs and bars</td>\n",
       "      <td>Whitefield</td>\n",
       "    </tr>\n",
       "  </tbody>\n",
       "</table>\n",
       "<p>51717 rows × 14 columns</p>\n",
       "</div>"
      ],
      "text/plain": [
       "                                                    name online_order  \\\n",
       "0                                                  Jalsa          Yes   \n",
       "1                                         Spice Elephant          Yes   \n",
       "2                                        San Churro Cafe          Yes   \n",
       "3                                  Addhuri Udupi Bhojana           No   \n",
       "4                                          Grand Village           No   \n",
       "5                                        Timepass Dinner          Yes   \n",
       "6        Rosewood International Hotel - Bar & Restaurant           No   \n",
       "7                                                 Onesta          Yes   \n",
       "8                                         Penthouse Cafe          Yes   \n",
       "9                                              Smacznego          Yes   \n",
       "10     CafÃÂÃÂÃÂÃÂÃÂÃÂÃÂÃÂ© Down The A...          Yes   \n",
       "11                                          Cafe Shuffle          Yes   \n",
       "12                                      The Coffee Shack          Yes   \n",
       "13                                            Caf-Eleven           No   \n",
       "14                                       San Churro Cafe          Yes   \n",
       "15                                         Cafe Vivacity          Yes   \n",
       "16                                          Catch-up-ino          Yes   \n",
       "17                                      Kirthi's Biryani          Yes   \n",
       "18                                              T3H Cafe           No   \n",
       "19                         360 Atoms Restaurant And Cafe          Yes   \n",
       "20                                      The Vintage Cafe          Yes   \n",
       "21                                          Woodee Pizza          Yes   \n",
       "22                                       Cafe Coffee Day           No   \n",
       "23                                          My Tea House          Yes   \n",
       "24                                         Hide Out Cafe           No   \n",
       "25                                             CAFE NOVA           No   \n",
       "26                                          Coffee Tindi          Yes   \n",
       "27                                        Sea Green Cafe           No   \n",
       "28                                                 Cuppa           No   \n",
       "29                                      Srinathji's Cafe           No   \n",
       "...                                                  ...          ...   \n",
       "51687                                          Red Rhino          Yes   \n",
       "51688                                          Ji Hazoor          Yes   \n",
       "51689                                                 HQ           No   \n",
       "51690                                     Biere Societee           No   \n",
       "51691                            Uno Chicago Bar & Grill           No   \n",
       "51692                                  Amoeba Sports Bar          Yes   \n",
       "51693                                   One For The Road          Yes   \n",
       "51694                                  Whitefield Social          Yes   \n",
       "51695             The Whitefield Arms Pub & Microbrewery          Yes   \n",
       "51696                                    The Irish House           No   \n",
       "51697                           Shizusan Shophouse & Bar          Yes   \n",
       "51698         Kava Kitchen & Bar - Fairfield by Marriott           No   \n",
       "51699                                 Harry's Bar + Cafe          Yes   \n",
       "51700                                            BAR BAR           No   \n",
       "51701                                      The Beer Cafe          Yes   \n",
       "51702                                  Pablo's Gastrobar           No   \n",
       "51703                               Oliver's Pub & Diner          Yes   \n",
       "51704                                            Smaaash           No   \n",
       "51705                                 Izakaya Gastro Pub          Yes   \n",
       "51706                                           Red Glow           No   \n",
       "51707        M Bar - Bengaluru Marriott Hotel Whitefield           No   \n",
       "51708                             Keys Cafe - Keys Hotel           No   \n",
       "51709                         The Farm House Bar n Grill           No   \n",
       "51710                                       Topsy Turvey           No   \n",
       "51711                                            Bhagini           No   \n",
       "51712  Best Brews - Four Points by Sheraton Bengaluru...           No   \n",
       "51713                           Vinod Bar And Restaurant           No   \n",
       "51714  Plunge - Sheraton Grand Bengaluru Whitefield H...           No   \n",
       "51715  Chime - Sheraton Grand Bengaluru Whitefield Ho...           No   \n",
       "51716                       The Nest - The Den Bengaluru           No   \n",
       "\n",
       "      book_table    rate  votes                    location  \\\n",
       "0            Yes   4.1/5    775                Banashankari   \n",
       "1             No   4.1/5    787                Banashankari   \n",
       "2             No   3.8/5    918                Banashankari   \n",
       "3             No   3.7/5     88                Banashankari   \n",
       "4             No   3.8/5    166                Basavanagudi   \n",
       "5             No   3.8/5    286                Basavanagudi   \n",
       "6             No   3.6/5      8                 Mysore Road   \n",
       "7            Yes   4.6/5   2556                Banashankari   \n",
       "8             No   4.0/5    324                Banashankari   \n",
       "9             No   4.2/5    504                Banashankari   \n",
       "10            No   4.1/5    402                Banashankari   \n",
       "11           Yes   4.2/5    150                Banashankari   \n",
       "12           Yes   4.2/5    164                Banashankari   \n",
       "13            No   4.0/5    424                Banashankari   \n",
       "14            No   3.8/5    918                Banashankari   \n",
       "15            No   3.8/5     90                Banashankari   \n",
       "16            No   3.9/5    133                Banashankari   \n",
       "17            No   3.8/5    144                Banashankari   \n",
       "18            No   3.9/5     93                Banashankari   \n",
       "19            No   3.1/5     13                Banashankari   \n",
       "20            No   3.0/5     62                Banashankari   \n",
       "21            No   3.7/5    180                Banashankari   \n",
       "22            No   3.6/5     28                Banashankari   \n",
       "23            No   3.6/5     62                Banashankari   \n",
       "24            No   3.7/5     31                Banashankari   \n",
       "25            No   3.2/5     11                Banashankari   \n",
       "26            No   3.8/5     75                Banashankari   \n",
       "27            No   3.3/5      4                Banashankari   \n",
       "28            No   3.3/5     23                Banashankari   \n",
       "29            No   3.8/5    148                Basavanagudi   \n",
       "...          ...     ...    ...                         ...   \n",
       "51687        Yes  4.4 /5   1980                  Whitefield   \n",
       "51688        Yes  4.0 /5   2856                  Whitefield   \n",
       "51689        Yes  4.1 /5    564                  Whitefield   \n",
       "51690        Yes  4.2 /5    320                  Whitefield   \n",
       "51691        Yes  4.2 /5    156                  Whitefield   \n",
       "51692        Yes  3.9 /5    578                  Whitefield   \n",
       "51693        Yes  4.1 /5    137                  Whitefield   \n",
       "51694         No  4.1 /5   2773                  Whitefield   \n",
       "51695        Yes  4.2 /5   1113                  Whitefield   \n",
       "51696        Yes  4.3 /5   1776                  Whitefield   \n",
       "51697        Yes  4.4 /5   1313                  Whitefield   \n",
       "51698         No  3.9 /5     74                  Whitefield   \n",
       "51699        Yes  4.1 /5   1218                  Whitefield   \n",
       "51700        Yes  4.1 /5   1003                  Whitefield   \n",
       "51701        Yes  4.1 /5    673                  Whitefield   \n",
       "51702         No  4.0 /5   1094                  Whitefield   \n",
       "51703        Yes  3.9 /5    548                  Whitefield   \n",
       "51704        Yes  4.0 /5    189                  Whitefield   \n",
       "51705        Yes  3.8 /5    128                  Whitefield   \n",
       "51706         No  3.7 /5     27                  Whitefield   \n",
       "51707         No  3.9 /5     77                  Whitefield   \n",
       "51708         No  2.8 /5    161                  Whitefield   \n",
       "51709         No  3.7 /5     34                  Whitefield   \n",
       "51710         No     NaN      0                  Whitefield   \n",
       "51711         No  2.5 /5     81                  Whitefield   \n",
       "51712         No  3.6 /5     27                  Whitefield   \n",
       "51713         No     NaN      0                  Whitefield   \n",
       "51714         No     NaN      0                  Whitefield   \n",
       "51715        Yes  4.3 /5    236  ITPL Main Road, Whitefield   \n",
       "51716         No  3.4 /5     13  ITPL Main Road, Whitefield   \n",
       "\n",
       "                 rest_type                                         dish_liked  \\\n",
       "0            Casual Dining  Pasta, Lunch Buffet, Masala Papad, Paneer Laja...   \n",
       "1            Casual Dining  Momos, Lunch Buffet, Chocolate Nirvana, Thai G...   \n",
       "2      Cafe, Casual Dining  Churros, Cannelloni, Minestrone Soup, Hot Choc...   \n",
       "3              Quick Bites                                        Masala Dosa   \n",
       "4            Casual Dining                                Panipuri, Gol Gappe   \n",
       "5            Casual Dining  Onion Rings, Pasta, Kadhai Paneer, Salads, Sal...   \n",
       "6            Casual Dining                                                NaN   \n",
       "7      Casual Dining, Cafe  Farmhouse Pizza, Chocolate Banana, Virgin Moji...   \n",
       "8                     Cafe  Pizza, Mocktails, Coffee, Nachos, Salad, Pasta...   \n",
       "9                     Cafe  Waffles, Pasta, Coleslaw Sandwich, Choco Waffl...   \n",
       "10                    Cafe  Waffles, Pasta, Crispy Chicken, Honey Chilli C...   \n",
       "11                    Cafe  Mocktails, Peri Fries, Lasagne, Pizza, Chicken...   \n",
       "12                    Cafe  Coffee, Spaghetti, Pancakes, Nachos, Pasta, Sa...   \n",
       "13                    Cafe  Sandwich, Omelette, Ice Tea, Virgin Mojito, Ho...   \n",
       "14     Cafe, Casual Dining  Churros, Cannelloni, Minestrone Soup, Hot Choc...   \n",
       "15                    Cafe  Garlic Bread, Burgers, Sandwiches, Pizza, Hot ...   \n",
       "16                    Cafe  Momos, Mushroom Bruschettas, Jalapeno Cheeseba...   \n",
       "17                    Cafe  Pasta, Gelato, Garlic Bread, Mojito, Nachos, P...   \n",
       "18                    Cafe     Cheese Maggi, Peri Peri Fries, Pasta Arrabiata   \n",
       "19                    Cafe                                                NaN   \n",
       "20                    Cafe  Burgers, Caramel Milkshake, Iced Coffee, Iced Tea   \n",
       "21                    Cafe                                Pizza, Garlic Bread   \n",
       "22                    Cafe                                                NaN   \n",
       "23       Quick Bites, Cafe                                    Pasta, Iced Tea   \n",
       "24                    Cafe                                                NaN   \n",
       "25                    Cafe                                                NaN   \n",
       "26       Cafe, Quick Bites                                                NaN   \n",
       "27                    Cafe                                                NaN   \n",
       "28                    Cafe                                                NaN   \n",
       "29     Casual Dining, Cafe  Paratha, Sandwich, Chilli Idli, Noodles, Sandw...   \n",
       "...                    ...                                                ...   \n",
       "51687    Microbrewery, Pub  Beer, Margarita, Long Island Iced Tea, Cocktai...   \n",
       "51688   Casual Dining, Bar  Chicken Salad, Mocktails, Mutton Curry, Chicke...   \n",
       "51689   Casual Dining, Bar  Mocktails, Pizza, Crispy Chicken, Beer, Nachos...   \n",
       "51690                  Pub  Tempura Prawns, Cocktails, Noodles, Masala Pea...   \n",
       "51691   Bar, Casual Dining  Deep Dish Pizza, Mocktails, Burgers, Onion Rin...   \n",
       "51692          Lounge, Bar  Pasta, Fish, Beer, Chicken Wings, Mocktails, G...   \n",
       "51693                  Bar                             Cocktails, Pasta, Fish   \n",
       "51694                  Pub  Cocktails, Chicken Kebab, Murgh Ghee Roast, Vi...   \n",
       "51695    Pub, Microbrewery  Beer, Chicken Tikka, Cosmopolitan, Burgers, Co...   \n",
       "51696   Casual Dining, Pub  Beer, Cocktails, Burgers, Chicken Nachos, Mock...   \n",
       "51697   Casual Dining, Bar  California Roll, Cocktails, Mocktails, Maki Ro...   \n",
       "51698   Casual Dining, Bar                                          Dal Halwa   \n",
       "51699                  Pub  Cocktails, Beer, Long Island Iced Tea, Pasta, ...   \n",
       "51700   Bar, Casual Dining  Mocktails, Cocktails, Pizza, Chicken Tikka, Na...   \n",
       "51701                  Pub  Cocktails, Wheat Beer, Bruschettas, Pasta, Bur...   \n",
       "51702                  Bar  Cocktails, Beer, Pizza, Long Island Iced Tea, ...   \n",
       "51703   Pub, Casual Dining  Pizza, Beer, Cocktails, Nachos, Pasta, Moo Bur...   \n",
       "51704   Casual Dining, Pub                                        Pizza, Beer   \n",
       "51705   Bar, Casual Dining  Beer, Chicken Guntur, Paneer Tikka, Fish, Nood...   \n",
       "51706                  Pub                                                NaN   \n",
       "51707     Fine Dining, Bar                                   Rooftop Ambience   \n",
       "51708   Casual Dining, Bar  Salads, Coffee, Breakfast Buffet, Halwa, Chick...   \n",
       "51709   Casual Dining, Bar                                                NaN   \n",
       "51710                  Bar                                                NaN   \n",
       "51711   Casual Dining, Bar                               Biryani, Andhra Meal   \n",
       "51712                  Bar                                                NaN   \n",
       "51713                  Bar                                                NaN   \n",
       "51714                  Bar                                                NaN   \n",
       "51715                  Bar                       Cocktails, Pizza, Buttermilk   \n",
       "51716   Bar, Casual Dining                                                NaN   \n",
       "\n",
       "                                                cuisines cost_two  \\\n",
       "0                         North Indian, Mughlai, Chinese      800   \n",
       "1                            Chinese, North Indian, Thai      800   \n",
       "2                                 Cafe, Mexican, Italian      800   \n",
       "3                             South Indian, North Indian      300   \n",
       "4                               North Indian, Rajasthani      600   \n",
       "5                                           North Indian      600   \n",
       "6            North Indian, South Indian, Andhra, Chinese      800   \n",
       "7                                   Pizza, Cafe, Italian      600   \n",
       "8                             Cafe, Italian, Continental      700   \n",
       "9               Cafe, Mexican, Italian, Momos, Beverages      550   \n",
       "10                                                  Cafe      500   \n",
       "11                            Cafe, Italian, Continental      600   \n",
       "12                   Cafe, Chinese, Continental, Italian      500   \n",
       "13                                     Cafe, Continental      450   \n",
       "14                                Cafe, Mexican, Italian      800   \n",
       "15                                                  Cafe      650   \n",
       "16          Cafe, Fast Food, Continental, Chinese, Momos      800   \n",
       "17                                Chinese, Cafe, Italian      700   \n",
       "18                               Cafe, Italian, American      300   \n",
       "19                   Cafe, Chinese, Continental, Italian      400   \n",
       "20                            Cafe, French, North Indian      400   \n",
       "21                     Cafe, Pizza, Fast Food, Beverages      500   \n",
       "22                                       Cafe, Fast Food      900   \n",
       "23                    Italian, Fast Food, Cafe, European      600   \n",
       "24                                                  Cafe      300   \n",
       "25                                          Cafe, Bakery      600   \n",
       "26                                    Cafe, South Indian      200   \n",
       "27                            Cafe, Fast Food, Beverages      500   \n",
       "28                                       Cafe, Fast Food      550   \n",
       "29                North Indian, Cafe, Chinese, Fast Food      550   \n",
       "...                                                  ...      ...   \n",
       "51687  Continental, Mediterranean, South Indian, Nort...    1,700   \n",
       "51688             Mughlai, North Indian, Biryani, Afghan    1,100   \n",
       "51689    North Indian, Italian, Finger Food, Continental    1,000   \n",
       "51690                       Asian, Continental, European    1,500   \n",
       "51691                                  American, Italian    1,800   \n",
       "51692                               Continental, Chinese    1,000   \n",
       "51693             Continental, North Indian, Finger Food    1,200   \n",
       "51694  American, North Indian, Chinese, Finger Food, ...    1,500   \n",
       "51695                          British, Continental, BBQ    1,600   \n",
       "51696                                 European, American    1,700   \n",
       "51697  Asian, Japanese, Vietnamese, Korean, Chinese, ...    1,800   \n",
       "51698  North Indian, South Indian, Continental, Ameri...    1,200   \n",
       "51699                           Asian, American, Mexican    1,200   \n",
       "51700                 Continental, North Indian, Italian    1,500   \n",
       "51701        Finger Food, North Indian, Chinese, Italian    1,400   \n",
       "51702              Finger Food, American, Asian, Italian    1,450   \n",
       "51703  Finger Food, American, Continental, Burger, Pizza    1,500   \n",
       "51704                       North Indian, Pizza, Chinese    1,500   \n",
       "51705           North Indian, Continental, Mediterranean    1,200   \n",
       "51706                          North Indian, Continental    1,200   \n",
       "51707                                        Finger Food    2,000   \n",
       "51708                 Chinese, Continental, North Indian    1,200   \n",
       "51709                          North Indian, Continental      800   \n",
       "51710                                        Finger Food      900   \n",
       "51711        Andhra, South Indian, Chinese, North Indian      800   \n",
       "51712                                        Continental    1,500   \n",
       "51713                                        Finger Food      600   \n",
       "51714                                        Finger Food    2,000   \n",
       "51715                                        Finger Food    2,500   \n",
       "51716             Finger Food, North Indian, Continental    1,500   \n",
       "\n",
       "                                            reviews_list  \\\n",
       "0      [('Rated 4.0', 'RATED\\n  A beautiful place to ...   \n",
       "1      [('Rated 4.0', 'RATED\\n  Had been here for din...   \n",
       "2      [('Rated 3.0', \"RATED\\n  Ambience is not that ...   \n",
       "3      [('Rated 4.0', \"RATED\\n  Great food and proper...   \n",
       "4      [('Rated 4.0', 'RATED\\n  Very good restaurant ...   \n",
       "5      [('Rated 3.0', 'RATED\\n  Food 3/5\\nAmbience 3/...   \n",
       "6      [('Rated 5.0', 'RATED\\n  Awesome food ??Great ...   \n",
       "7      [('Rated 5.0', 'RATED\\n  I personally really l...   \n",
       "8      [('Rated 3.0', \"RATED\\n  I had been to this pl...   \n",
       "9      [('Rated 4.0', \"RATED\\n  Easy to locate\\nVFM 3...   \n",
       "10     [('Rated 4.0', 'RATED\\n  We ended up here on a...   \n",
       "11     [('Rated 1.0', \"RATED\\n \\n\\nHorrible. Not even...   \n",
       "12     [('Rated 4.0', \"RATED\\n  Food - 4/5\\nAmbience ...   \n",
       "13     [('Rated 2.0', \"RATED\\n  This is a hookah cafe...   \n",
       "14     [('Rated 3.0', \"RATED\\n  Ambience is not that ...   \n",
       "15     [('Rated 2.0', 'RATED\\n  Not so good place as ...   \n",
       "16     [('Rated 1.0', \"RATED\\n  This place is right o...   \n",
       "17     [('Rated 3.0', \"RATED\\n  New place.. though it...   \n",
       "18     [('Rated 4.0', \"RATED\\n  Happy to see such a c...   \n",
       "19     [('Rated 5.0', 'RATED\\n  Friendly staffs , nic...   \n",
       "20     [('Rated 2.0', \"RATED\\n  This is a tiny cafÃ\\...   \n",
       "21     [('Rated 3.0', 'RATED\\n  Decided to take a bre...   \n",
       "22     [('Rated 4.0', 'RATED\\n  This outlet is better...   \n",
       "23     [('Rated 4.0', \"RATED\\n  So, went here with fr...   \n",
       "24     [('Rated 4.0', 'RATED\\n  The food was quite go...   \n",
       "25     [('Rated 1.0', \"RATED\\n  No ventilation. Smoke...   \n",
       "26     [('Rated 5.0', 'RATED\\n  please provide some e...   \n",
       "27     [('Rated 5.0', 'RATED\\n  Newly opened cafe nea...   \n",
       "28     [('Rated 1.5', 'RATED\\n  This place was good t...   \n",
       "29     [('Rated 5.0', 'RATED\\n  No words for the pane...   \n",
       "...                                                  ...   \n",
       "51687  [('Rated 4.0', 'RATED\\n  Red Rhino is a Brewer...   \n",
       "51688  [('Rated 4.0', 'RATED\\n  Was there on last Wed...   \n",
       "51689  [('Rated 3.0', \"RATED\\n  HQ is located at grou...   \n",
       "51690  [('Rated 3.0', 'RATED\\n  Went with Team on Thu...   \n",
       "51691  [('Rated 4.0', \"RATED\\n  Had been here for lun...   \n",
       "51692  [('Rated 3.0', 'RATED\\n  Amoeba is affordable ...   \n",
       "51693  [('Rated 4.0', 'RATED\\n  Had been there on a S...   \n",
       "51694  [('Rated 2.0', 'RATED\\n  Honestly speaking it ...   \n",
       "51695  [('Rated 4.0', \"RATED\\n  I never knew of this ...   \n",
       "51696  [('Rated 4.0', 'RATED\\n  Nice place to grab a ...   \n",
       "51697  [('Rated 3.0', 'RATED\\n  Wanted to try this pl...   \n",
       "51698  [('Rated 4.0', 'RATED\\n  Loved the food, thoug...   \n",
       "51699  [('Rated 4.0', 'RATED\\n  The first thing that ...   \n",
       "51700  [('Rated 4.0', \"RATED\\n  In an increasingly ov...   \n",
       "51701  [('Rated 2.0', \"RATED\\n  We went out to this p...   \n",
       "51702  [('Rated 4.0', 'RATED\\n  A good place to dine....   \n",
       "51703  [('Rated 4.0', \"RATED\\n  I had :-\\n\\n1. Italia...   \n",
       "51704  [('Rated 3.0', 'RATED\\n  Like this place for z...   \n",
       "51705  [('Rated 3.0', \"RATED\\n  Nice place to hangout...   \n",
       "51706  [('Rated 5.0', 'RATED\\n  Excellent place had n...   \n",
       "51707  [('Rated 4.0', 'RATED\\n  Went there post dinne...   \n",
       "51708  [('Rated 3.0', 'RATED\\n  Place is good not tha...   \n",
       "51709  [('Rated 4.0', 'RATED\\n  Ambience- Big and spa...   \n",
       "51710  [('Rated 4.0', \"RATED\\n  A divine joint for Fl...   \n",
       "51711  [('Rated 4.0', 'RATED\\n  A fine place to chill...   \n",
       "51712  [('Rated 5.0', \"RATED\\n  Food and service are ...   \n",
       "51713                                                 []   \n",
       "51714                                                 []   \n",
       "51715  [('Rated 4.0', 'RATED\\n  Nice and friendly pla...   \n",
       "51716  [('Rated 5.0', 'RATED\\n  Great ambience , look...   \n",
       "\n",
       "                                               menu_item   service_type  \\\n",
       "0                                                     []         Buffet   \n",
       "1                                                     []         Buffet   \n",
       "2                                                     []         Buffet   \n",
       "3                                                     []         Buffet   \n",
       "4                                                     []         Buffet   \n",
       "5                                                     []         Buffet   \n",
       "6                                                     []         Buffet   \n",
       "7                                                     []          Cafes   \n",
       "8                                                     []          Cafes   \n",
       "9                                                     []          Cafes   \n",
       "10                                                    []          Cafes   \n",
       "11                                                    []          Cafes   \n",
       "12                                                    []          Cafes   \n",
       "13                                                    []          Cafes   \n",
       "14                                                    []          Cafes   \n",
       "15                                                    []          Cafes   \n",
       "16                                                    []          Cafes   \n",
       "17                                                    []          Cafes   \n",
       "18                                                    []          Cafes   \n",
       "19                                                    []          Cafes   \n",
       "20                                                    []          Cafes   \n",
       "21                                                    []          Cafes   \n",
       "22                                                    []          Cafes   \n",
       "23                                                    []          Cafes   \n",
       "24                                                    []          Cafes   \n",
       "25                                                    []          Cafes   \n",
       "26                                                    []          Cafes   \n",
       "27                                                    []          Cafes   \n",
       "28                                                    []          Cafes   \n",
       "29                                                    []          Cafes   \n",
       "...                                                  ...            ...   \n",
       "51687  ['Hangover', 'Smoking Hot Red Rhino Chilli Chi...  Pubs and bars   \n",
       "51688  ['Dal Tadka', 'Dal Makhani', 'Paneer Tikka Mas...  Pubs and bars   \n",
       "51689                                                 []  Pubs and bars   \n",
       "51690                                                 []  Pubs and bars   \n",
       "51691                                                 []  Pubs and bars   \n",
       "51692                                                 []  Pubs and bars   \n",
       "51693  ['Chicken Manchow Soup', 'Chicken Lollipop', '...  Pubs and bars   \n",
       "51694  ['Chilli Paneer Black Pepper China Box', 'Chil...  Pubs and bars   \n",
       "51695                                                 []  Pubs and bars   \n",
       "51696                                                 []  Pubs and bars   \n",
       "51697                                                 []  Pubs and bars   \n",
       "51698                                                 []  Pubs and bars   \n",
       "51699                                                 []  Pubs and bars   \n",
       "51700                                                 []  Pubs and bars   \n",
       "51701                                                 []  Pubs and bars   \n",
       "51702                                                 []  Pubs and bars   \n",
       "51703                                                 []  Pubs and bars   \n",
       "51704                                                 []  Pubs and bars   \n",
       "51705                                                 []  Pubs and bars   \n",
       "51706                                                 []  Pubs and bars   \n",
       "51707                                                 []  Pubs and bars   \n",
       "51708                                                 []  Pubs and bars   \n",
       "51709                                                 []  Pubs and bars   \n",
       "51710                                                 []  Pubs and bars   \n",
       "51711                                                 []  Pubs and bars   \n",
       "51712                                                 []  Pubs and bars   \n",
       "51713                                                 []  Pubs and bars   \n",
       "51714                                                 []  Pubs and bars   \n",
       "51715                                                 []  Pubs and bars   \n",
       "51716                                                 []  Pubs and bars   \n",
       "\n",
       "           serve_to  \n",
       "0      Banashankari  \n",
       "1      Banashankari  \n",
       "2      Banashankari  \n",
       "3      Banashankari  \n",
       "4      Banashankari  \n",
       "5      Banashankari  \n",
       "6      Banashankari  \n",
       "7      Banashankari  \n",
       "8      Banashankari  \n",
       "9      Banashankari  \n",
       "10     Banashankari  \n",
       "11     Banashankari  \n",
       "12     Banashankari  \n",
       "13     Banashankari  \n",
       "14     Banashankari  \n",
       "15     Banashankari  \n",
       "16     Banashankari  \n",
       "17     Banashankari  \n",
       "18     Banashankari  \n",
       "19     Banashankari  \n",
       "20     Banashankari  \n",
       "21     Banashankari  \n",
       "22     Banashankari  \n",
       "23     Banashankari  \n",
       "24     Banashankari  \n",
       "25     Banashankari  \n",
       "26     Banashankari  \n",
       "27     Banashankari  \n",
       "28     Banashankari  \n",
       "29     Banashankari  \n",
       "...             ...  \n",
       "51687    Whitefield  \n",
       "51688    Whitefield  \n",
       "51689    Whitefield  \n",
       "51690    Whitefield  \n",
       "51691    Whitefield  \n",
       "51692    Whitefield  \n",
       "51693    Whitefield  \n",
       "51694    Whitefield  \n",
       "51695    Whitefield  \n",
       "51696    Whitefield  \n",
       "51697    Whitefield  \n",
       "51698    Whitefield  \n",
       "51699    Whitefield  \n",
       "51700    Whitefield  \n",
       "51701    Whitefield  \n",
       "51702    Whitefield  \n",
       "51703    Whitefield  \n",
       "51704    Whitefield  \n",
       "51705    Whitefield  \n",
       "51706    Whitefield  \n",
       "51707    Whitefield  \n",
       "51708    Whitefield  \n",
       "51709    Whitefield  \n",
       "51710    Whitefield  \n",
       "51711    Whitefield  \n",
       "51712    Whitefield  \n",
       "51713    Whitefield  \n",
       "51714    Whitefield  \n",
       "51715    Whitefield  \n",
       "51716    Whitefield  \n",
       "\n",
       "[51717 rows x 14 columns]"
      ]
     },
     "execution_count": 14,
     "metadata": {},
     "output_type": "execute_result"
    }
   ],
   "source": [
    "#Check again the data \n",
    "df"
   ]
  },
  {
   "cell_type": "markdown",
   "metadata": {},
   "source": [
    "`rate` is read as object, but for analysis we need that to be present in numerical format."
   ]
  },
  {
   "cell_type": "code",
   "execution_count": 15,
   "metadata": {},
   "outputs": [
    {
     "data": {
      "text/plain": [
       "array(['4.1/5', '3.8/5', '3.7/5', '3.6/5', '4.6/5', '4.0/5', '4.2/5',\n",
       "       '3.9/5', '3.1/5', '3.0/5', '3.2/5', '3.3/5', '2.8/5', '4.4/5',\n",
       "       '4.3/5', 'NEW', '2.9/5', '3.5/5', nan, '2.6/5', '3.8 /5', '3.4/5',\n",
       "       '4.5/5', '2.5/5', '2.7/5', '4.7/5', '2.4/5', '2.2/5', '2.3/5',\n",
       "       '3.4 /5', '-', '3.6 /5', '4.8/5', '3.9 /5', '4.2 /5', '4.0 /5',\n",
       "       '4.1 /5', '3.7 /5', '3.1 /5', '2.9 /5', '3.3 /5', '2.8 /5',\n",
       "       '3.5 /5', '2.7 /5', '2.5 /5', '3.2 /5', '2.6 /5', '4.5 /5',\n",
       "       '4.3 /5', '4.4 /5', '4.9/5', '2.1/5', '2.0/5', '1.8/5', '4.6 /5',\n",
       "       '4.9 /5', '3.0 /5', '4.8 /5', '2.3 /5', '4.7 /5', '2.4 /5',\n",
       "       '2.1 /5', '2.2 /5', '2.0 /5', '1.8 /5'], dtype=object)"
      ]
     },
     "execution_count": 15,
     "metadata": {},
     "output_type": "execute_result"
    }
   ],
   "source": [
    "#Manipulating the 'rate' column - Find its distinct/unique values\n",
    "#Manipulating the 'rate' column - Find its distinct/unique values\n",
    "df['rate'].unique()"
   ]
  },
  {
   "cell_type": "code",
   "execution_count": 16,
   "metadata": {},
   "outputs": [],
   "source": [
    "df.rate = df.rate.astype('str')\n",
    "#removing the \"/5\" in the rate column. You can take help of lamda function statement here, use replace() and strip()\n",
    "\n",
    "df['rate'] = df['rate'].apply(lambda x: str(x).split('/')[0])"
   ]
  },
  {
   "cell_type": "code",
   "execution_count": 17,
   "metadata": {},
   "outputs": [],
   "source": [
    "#rate column contains 'NEW' and '-' replacing those with nan and drop those fields without any rating\n",
    "# Replace \"NEW\" & \"-\" to np.nan\n",
    "\n",
    "df['rate'].replace(\"NEW\",np.nan,inplace = True)\n",
    "df['rate'].replace(\"-\",np.nan,inplace = True)"
   ]
  },
  {
   "cell_type": "code",
   "execution_count": 18,
   "metadata": {},
   "outputs": [],
   "source": [
    "#dropping the observations where rate and cost_two is null\n",
    "df['rate'].dropna(inplace=True)\n",
    "df['cost_two'].dropna(inplace=True)"
   ]
  },
  {
   "cell_type": "code",
   "execution_count": 19,
   "metadata": {},
   "outputs": [],
   "source": [
    "df.rate = df.rate.astype('float')"
   ]
  },
  {
   "cell_type": "code",
   "execution_count": 20,
   "metadata": {},
   "outputs": [],
   "source": [
    "#online_order and book_table are given as 'Yes' and 'No'. Converting these two True and False for better manipulation.\n",
    "#use .replace() method, and do not forget to update the data at the same time\n",
    "\n",
    "df['online_order'].replace(\"Yes\",\"True\",inplace = True)\n",
    "df['online_order'].replace(\"No\",\"False\",inplace = True)\n",
    "df['book_table'].replace(\"Yes\",\"True\",inplace = True)\n",
    "df['book_table'].replace(\"No\",\"False\",inplace = True)"
   ]
  },
  {
   "cell_type": "code",
   "execution_count": 21,
   "metadata": {},
   "outputs": [
    {
     "data": {
      "text/plain": [
       "array(['800', '300', '600', '700', '550', '500', '450', '650', '400',\n",
       "       '900', '200', '750', '150', '850', '100', '1,200', '350', '250',\n",
       "       '950', '1,000', '1,500', '1,300', '199', '80', '1,100', '160',\n",
       "       '1,600', '230', '130', '50', '190', '1,700', nan, '1,400', '180',\n",
       "       '1,350', '2,200', '2,000', '1,800', '1,900', '330', '2,500',\n",
       "       '2,100', '3,000', '2,800', '3,400', '40', '1,250', '3,500',\n",
       "       '4,000', '2,400', '2,600', '120', '1,450', '469', '70', '3,200',\n",
       "       '60', '560', '240', '360', '6,000', '1,050', '2,300', '4,100',\n",
       "       '5,000', '3,700', '1,650', '2,700', '4,500', '140'], dtype=object)"
      ]
     },
     "execution_count": 21,
     "metadata": {},
     "output_type": "execute_result"
    }
   ],
   "source": [
    "#Find the unique values of cost_two and data type of cost_two variable\n",
    "df['cost_two'].unique()"
   ]
  },
  {
   "cell_type": "markdown",
   "metadata": {},
   "source": [
    "To convert the variable to an integer we could simply use `astype('int')` but in this scenario, this method would not work because of the presence of a comma in between the numbers, eg. 2,500. To avoid this kind of problem, we are using `lambda` and `replace` function to replace comma (,) with nothing and then convert to integer."
   ]
  },
  {
   "cell_type": "code",
   "execution_count": 22,
   "metadata": {},
   "outputs": [
    {
     "name": "stdout",
     "output_type": "stream",
     "text": [
      "object\n"
     ]
    }
   ],
   "source": [
    "print(df['cost_two'].dtype)"
   ]
  },
  {
   "cell_type": "code",
   "execution_count": 23,
   "metadata": {},
   "outputs": [],
   "source": [
    "df['cost_two'] = df['cost_two'].apply(lambda x: str(x).replace(',',''))\n",
    "df.head(1)\n",
    "#converting the cost_two variable to int\n",
    "#apply the lambda function on cost_two column and convert to int().\n",
    "#remember to replace any string values present in the entries of this column before converting to numeric, you can do it in the same lambda function line\n",
    "#then again check the data\n",
    "df['cost_two'] = df['cost_two'].apply(lambda x: str(x).replace(',',''))\n",
    "a = list(df['cost_two'])\n",
    "for i in range(0, len(a)):\n",
    "    if a[i] != 'nan':\n",
    "        a[i] = int(a[i])\n",
    "    else:\n",
    "        a[i] = None\n",
    "df['cost_two'] = a"
   ]
  },
  {
   "cell_type": "markdown",
   "metadata": {},
   "source": [
    "__4. Visualization__  \n",
    "\n",
    "In this section, we will analyze the data by creating multiple visualizations using seaborn and matplotlib.  \n",
    "you can use `plt.rcParams['figure.figsize'] = 14,7` for fixing the figure size"
   ]
  },
  {
   "cell_type": "code",
   "execution_count": 24,
   "metadata": {},
   "outputs": [],
   "source": [
    "sns.set_style('darkgrid')"
   ]
  },
  {
   "cell_type": "code",
   "execution_count": 25,
   "metadata": {},
   "outputs": [
    {
     "data": {
      "image/png": "[encoded data removed]",
      "text/plain": [
       "<Figure size 1008x504 with 1 Axes>"
      ]
     },
     "metadata": {},
     "output_type": "display_data"
    }
   ],
   "source": [
    "#lets plot the distribution of votes, Use sns.distplot()\n",
    "plt.rcParams['figure.figsize'] = 14,7\n",
    "sns.distplot(df['votes'],bins= 5,kde=False,color =\"orangered\")\n",
    "plt.title(\"Distribution of Votes\")\n",
    "plt.ylabel('Count')\n",
    "plt.show()"
   ]
  },
  {
   "cell_type": "markdown",
   "metadata": {},
   "source": [
    "__Q. WHat does this distplot shows about the distribution of votes?  \n",
    "_Ans. This distplot shows that the votes are highly skewed towards the left. The number of votes towards right most end are extremely less. The majority of the number of votes lie between 0 and 3000. "
   ]
  },
  {
   "cell_type": "markdown",
   "metadata": {},
   "source": [
    "###### a. Count Plot\n",
    "Countplot is essentially the same as the barplot except that it shows the count of observations in each category bin using bars. In our dataset, let’s check the count of each rating category present."
   ]
  },
  {
   "cell_type": "code",
   "execution_count": 26,
   "metadata": {},
   "outputs": [
    {
     "data": {
      "text/plain": [
       "Text(0.5, 1.0, 'Countplot of Rate Variable')"
      ]
     },
     "execution_count": 26,
     "metadata": {},
     "output_type": "execute_result"
    },
    {
     "data": {
      "image/png": "[encoded data removed]",
      "text/plain": [
       "<Figure size 1008x504 with 1 Axes>"
      ]
     },
     "metadata": {},
     "output_type": "display_data"
    }
   ],
   "source": [
    "plt.rcParams['figure.figsize'] = 14,7\n",
    "sns.countplot(df['rate'],palette=\"Set1\")\n",
    "plt.title(\"Countplot of Rate Variable\")"
   ]
  },
  {
   "cell_type": "markdown",
   "metadata": {},
   "source": [
    "__Q. WHat does this countplot shows about the distribution of `rate`? what distribution it is following , what could be mean values? what is the rating range for majority of the restaurants? Any other obseravtion?    \n",
    "_Ans. The above graph tends to follow normal distribution. The mean values could be somewhere between 3.5 to 3.7 on the rate axis. Considering approximate values we can say that the mean value would be 3.6 on the rate axis and the corresponding value on the count scale would be 3250."
   ]
  },
  {
   "cell_type": "markdown",
   "metadata": {},
   "source": [
    "###### b. Joint Plot\n",
    "\n",
    "Jointplot allows us to compare the two different variables and see if there is any relationship between these two variables. By using the Joint plot we can do both bivariate and univariate analysis by plotting the scatterplot (bivariate) and distribution plot (univariate) of two different variables in a single plotting grid."
   ]
  },
  {
   "cell_type": "code",
   "execution_count": 27,
   "metadata": {},
   "outputs": [
    {
     "data": {
      "text/plain": [
       "<seaborn.axisgrid.JointGrid at 0x1a832929470>"
      ]
     },
     "execution_count": 27,
     "metadata": {},
     "output_type": "execute_result"
    },
    {
     "data": {
      "image/png": "[encoded data removed]",
      "text/plain": [
       "<Figure size 720x720 with 3 Axes>"
      ]
     },
     "metadata": {},
     "output_type": "display_data"
    }
   ],
   "source": [
    "#joint plot for 'rate' and 'votes'. use sns.jointplot(). For displaying you csn use plt.show() also\n",
    "sns.jointplot(x=df['rate'],y=df['votes'],height =10,ratio=3)"
   ]
  },
  {
   "cell_type": "markdown",
   "metadata": {},
   "source": [
    "__Q. What we can infer from the above plot?__  \n",
    "___Ans:___ This tells us that when the rate of a particular restaurant is less than 3, the number of votes are also very less. However in the middle range, the number of votes and the rates for each restaurant is proportional. Also when the rate of the restaurant is exteremely high, then the number of votes for the same are also pretty little. This tells us that people mostly go to those restaurants which are either highly voted or have a high rate score. "
   ]
  },
  {
   "cell_type": "markdown",
   "metadata": {},
   "source": [
    "###### c. Bar Plot\n",
    "\n",
    "Barplot is one of the most commonly used graphic to represent the data. Barplot represents data in rectangular bars with length of the bar proportional to the value of the variable. We will analyze the variable location and see in which area most of the restaurants are located in Bangalore."
   ]
  },
  {
   "cell_type": "code",
   "execution_count": 28,
   "metadata": {
    "scrolled": true
   },
   "outputs": [
    {
     "data": {
      "image/png": "[encoded data removed]",
      "text/plain": [
       "<Figure size 1008x504 with 1 Axes>"
      ]
     },
     "metadata": {},
     "output_type": "display_data"
    }
   ],
   "source": [
    "df.location.value_counts().nlargest(10).plot(kind = \"barh\")\n",
    "plt.title(\"Number of restaurants by location\")\n",
    "plt.xlabel(\"Count\")\n",
    "plt.show()"
   ]
  },
  {
   "cell_type": "markdown",
   "metadata": {},
   "source": [
    "__Q. What we can infer from the above plot?__  \n",
    "___Ans:___ We can infer that most of the restaurants are situated in btm so this can a good area for opening a new restaurant_."
   ]
  },
  {
   "cell_type": "markdown",
   "metadata": {},
   "source": [
    "##### d. Correlation Heatmap\n",
    "\n",
    "Correlation describes how strongly a pair of variables are related to each other."
   ]
  },
  {
   "cell_type": "code",
   "execution_count": 29,
   "metadata": {},
   "outputs": [
    {
     "data": {
      "image/png": "[encoded data removed]",
      "text/plain": [
       "<Figure size 1008x504 with 2 Axes>"
      ]
     },
     "metadata": {},
     "output_type": "display_data"
    }
   ],
   "source": [
    "#seaborn heatmap function to plot the correlation grid\n",
    "sns.heatmap(df.corr(), annot = True, cmap = \"viridis\",linecolor='white',linewidths=1)\n",
    "plt.show()"
   ]
  },
  {
   "cell_type": "markdown",
   "metadata": {},
   "source": [
    "The correlation function `corr` calculates the Pearson correlation between the numeric variables, it has a value between +1 and −1, where 1 is a total positive linear correlation, 0 is no linear correlation, and −1 is a total negative linear correlation.\n"
   ]
  },
  {
   "cell_type": "markdown",
   "metadata": {},
   "source": [
    "__Q. What we can infer from the above plot?__  \n",
    "___Ans:__Restaurants that provide online order have an inverse relation with the average cost for two epople in restaurant_"
   ]
  },
  {
   "cell_type": "markdown",
   "metadata": {},
   "source": [
    "##### Restaurant Listed in\n",
    "Lets see to in which area most of the restaurants are listed in or deliver to."
   ]
  },
  {
   "cell_type": "code",
   "execution_count": 30,
   "metadata": {},
   "outputs": [
    {
     "data": {
      "image/png": "[encoded data removed]",
      "text/plain": [
       "<Figure size 1008x504 with 1 Axes>"
      ]
     },
     "metadata": {},
     "output_type": "display_data"
    }
   ],
   "source": [
    "#restaurants serve to. use serve_to column and create frequency bar plot\n",
    "#however, you can use countplot also. but, then graph will look different than below.\n",
    "#Infer according to your plot\n",
    "df['serve_to'].value_counts().nlargest(10).plot(kind = \"barh\")\n",
    "plt.title(\"Number of restaurants listed in a particular location\")\n",
    "plt.xlabel(\"Count\")\n",
    "plt.show()\n"
   ]
  },
  {
   "cell_type": "markdown",
   "metadata": {},
   "source": [
    "__Q. What we can infer from the above plot?__  \n",
    "___Ans:__:maximum restaurants deliver to the btm area_. "
   ]
  },
  {
   "cell_type": "markdown",
   "metadata": {},
   "source": [
    "###### Online Order\n",
    "Analyzing the restaurants based on availability of online order facility"
   ]
  },
  {
   "cell_type": "code",
   "execution_count": 31,
   "metadata": {},
   "outputs": [
    {
     "data": {
      "text/plain": [
       "<matplotlib.axes._subplots.AxesSubplot at 0x1a8327139b0>"
      ]
     },
     "execution_count": 31,
     "metadata": {},
     "output_type": "execute_result"
    },
    {
     "data": {
      "image/png": "[encoded data removed]",
      "text/plain": [
       "<Figure size 1008x504 with 1 Axes>"
      ]
     },
     "metadata": {},
     "output_type": "display_data"
    }
   ],
   "source": [
    "sns.countplot(df['online_order'],order=['False','True'])"
   ]
  },
  {
   "cell_type": "markdown",
   "metadata": {},
   "source": [
    "__Q. What we can infer from the above plot?__  \n",
    "___Ans:___ This tells us that the there are more restaurants that take online orders as compared to the ones who don't"
   ]
  },
  {
   "cell_type": "markdown",
   "metadata": {},
   "source": [
    "*__Does online order facility impacts the rating of the restaurant?__*"
   ]
  },
  {
   "cell_type": "code",
   "execution_count": 32,
   "metadata": {},
   "outputs": [
    {
     "data": {
      "image/png": "[encoded data removed]",
      "text/plain": [
       "<Figure size 1008x504 with 1 Axes>"
      ]
     },
     "metadata": {},
     "output_type": "display_data"
    }
   ],
   "source": [
    "sns.countplot(hue = df[\"online_order\"], palette = \"Set1\", x = df[\"rate\"])\n",
    "plt.title(\"Distribution of restaurant rating over online order facility\")\n",
    "plt.show()"
   ]
  },
  {
   "cell_type": "markdown",
   "metadata": {},
   "source": [
    "Restaurants which provide online order facility has better ratings than the traditional restaurants. It makes sense because many software employees stay in Bangalore and they tend to order a lot of food through the online."
   ]
  },
  {
   "cell_type": "markdown",
   "metadata": {},
   "source": [
    "##### Booking Table"
   ]
  },
  {
   "cell_type": "code",
   "execution_count": 33,
   "metadata": {},
   "outputs": [
    {
     "data": {
      "image/png": "[encoded data removed]",
      "text/plain": [
       "<Figure size 1008x504 with 1 Axes>"
      ]
     },
     "metadata": {},
     "output_type": "display_data"
    }
   ],
   "source": [
    "#rating vs booking table\n",
    "sns.countplot(hue = df[\"book_table\"], palette = \"Set2\", x = df[\"rate\"])\n",
    "plt.title(\"Distribution of restaurant rating over booking table facility\")\n",
    "plt.show()"
   ]
  },
  {
   "cell_type": "code",
   "execution_count": 34,
   "metadata": {},
   "outputs": [
    {
     "data": {
      "image/png": "[encoded data removed]",
      "text/plain": [
       "<Figure size 831.375x360 with 2 Axes>"
      ]
     },
     "metadata": {},
     "output_type": "display_data"
    }
   ],
   "source": [
    "#Use catplot() to combine a countplot() and a FacetGrid. This allows grouping within additional categorical variables\n",
    "g = sns.catplot(x=\"book_table\", hue=\"service_type\", col=\"online_order\", data=df, kind=\"count\")"
   ]
  },
  {
   "cell_type": "markdown",
   "metadata": {},
   "source": [
    "- Most of the highly rated restaurants (rating more than 4.0) provide an option of booking table"
   ]
  },
  {
   "cell_type": "markdown",
   "metadata": {},
   "source": [
    "##### Restaurant Service Type"
   ]
  },
  {
   "cell_type": "code",
   "execution_count": 35,
   "metadata": {},
   "outputs": [
    {
     "data": {
      "image/png": "[encoded data removed]",
      "text/plain": [
       "<Figure size 1008x504 with 1 Axes>"
      ]
     },
     "metadata": {},
     "output_type": "display_data"
    }
   ],
   "source": [
    "#check the restaurant service type\n",
    "\n",
    "df.service_type.value_counts().plot(kind = \"pie\", autopct='%.1f%%')\n",
    "plt.show()"
   ]
  },
  {
   "cell_type": "markdown",
   "metadata": {},
   "source": [
    "- Majority of restaurants (~>50%) provides an option of home delivery.\n",
    "- 35% of the restaurants listed on Zomato provides Dine out option"
   ]
  },
  {
   "cell_type": "markdown",
   "metadata": {},
   "source": [
    "##### Does the service type effects ratings given to the restaurant?"
   ]
  },
  {
   "cell_type": "code",
   "execution_count": 36,
   "metadata": {},
   "outputs": [
    {
     "data": {
      "image/png": "[encoded data removed]",
      "text/plain": [
       "<Figure size 1008x504 with 1 Axes>"
      ]
     },
     "metadata": {},
     "output_type": "display_data"
    }
   ],
   "source": [
    "#ratings vs service type\n",
    "sns.boxplot(x=\"service_type\", y=\"rate\", data = df)\n",
    "plt.show()"
   ]
  },
  {
   "cell_type": "markdown",
   "metadata": {},
   "source": [
    "- The Restaurants which serve drinks (pubs and bars) has median rating more than 4.5 but from the violin plot we can see that thse restaurants receive very few ratings compared to other type of restaurants"
   ]
  },
  {
   "cell_type": "markdown",
   "metadata": {},
   "source": [
    "###### Biggest Restaurant Chain and Best Restaurant Chain"
   ]
  },
  {
   "cell_type": "code",
   "execution_count": 37,
   "metadata": {},
   "outputs": [
    {
     "data": {
      "image/png": "[encoded data removed]",
      "text/plain": [
       "<Figure size 1008x504 with 2 Axes>"
      ]
     },
     "metadata": {},
     "output_type": "display_data"
    }
   ],
   "source": [
    "plt.rcParams['figure.figsize'] = 14,7\n",
    "plt.subplot(1,2,1)\n",
    "df.name.value_counts().head().plot(kind = \"barh\", color = sns.color_palette(\"hls\", 5))\n",
    "plt.xlabel(\"Number of restaurants\")\n",
    "plt.title(\"Biggest Restaurant Chain (Top 5)\")\n",
    "\n",
    "plt.subplot(1,2,2)\n",
    "df[df['rate']>=4.5]['name'].value_counts().nlargest(5).plot(kind = \"barh\", color = sns.color_palette(\"Paired\"))\n",
    "plt.xlabel(\"Number of restaurants\")\n",
    "plt.title(\"Best Restaurant Chain (Top 5) - Rating More than 4.5\")\n",
    "plt.tight_layout()"
   ]
  },
  {
   "cell_type": "markdown",
   "metadata": {},
   "source": [
    "Cafe Coffee Day chain has over 90 cafes across the city that are listed in Zomato. On the other hand, Truffles – a burger chain has the best fast food restaurants (rating more than 4.5 out of 100), quality over quantity.\n",
    "\n",
    "Next time when you visit Bangalore or if you want to check out a good restaurant over a weekend don’t forget to try the food at **Truffles**, **Hammered** and **Mainland China**."
   ]
  },
  {
   "cell_type": "markdown",
   "metadata": {},
   "source": [
    "##### Top Restaurant Type"
   ]
  },
  {
   "cell_type": "code",
   "execution_count": 38,
   "metadata": {},
   "outputs": [
    {
     "data": {
      "image/png": "[encoded data removed]",
      "text/plain": [
       "<Figure size 1008x504 with 1 Axes>"
      ]
     },
     "metadata": {},
     "output_type": "display_data"
    }
   ],
   "source": [
    "plt.rcParams['figure.figsize'] = 14,7\n",
    "df.rest_type.value_counts().nlargest(10).plot(kind = \"barh\", color = sns.color_palette(\"hls\", 10))\n",
    "plt.xlabel(\"Count\")\n",
    "plt.title(\"Top Restaurant Type (Top 10)\")\n",
    "plt.show()"
   ]
  },
  {
   "cell_type": "markdown",
   "metadata": {},
   "source": [
    "Hope, You have enjoyed this case study, and have learned few aspects of EDA (Exploratory Data Analysis).\n",
    "\n",
    "___Thank You!___"
   ]
  }
 ],
 "metadata": {
  "kernelspec": {
   "display_name": "Python 3",
   "language": "python",
   "name": "python3"
  },
  "language_info": {
   "codemirror_mode": {
    "name": "ipython",
    "version": 3
   },
   "file_extension": ".py",
   "mimetype": "text/x-python",
   "name": "python",
   "nbconvert_exporter": "python",
   "pygments_lexer": "ipython3",
   "version": "3.7.3"
  }
 },
 "nbformat": 4,
 "nbformat_minor": 2
}
